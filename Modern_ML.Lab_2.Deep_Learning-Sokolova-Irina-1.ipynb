{
 "cells": [
  {
   "cell_type": "markdown",
   "metadata": {},
   "source": [
    "# <center> Майнор \"Интеллектуальный анализ данных\" </center>"
   ]
  },
  {
   "cell_type": "markdown",
   "metadata": {},
   "source": [
    "# <center> Курс \"Современные методы машинного обучения\" </center>"
   ]
  },
  {
   "cell_type": "markdown",
   "metadata": {},
   "source": [
    "# <center> Лабораторная работа №2. Deep Learning. </center>"
   ]
  },
  {
   "cell_type": "markdown",
   "metadata": {},
   "source": [
    "В данной лабораторной работе вам предлагается обучить модель на основе нейронной сети для распознавания рукописных букв английского алфавита."
   ]
  },
  {
   "cell_type": "markdown",
   "metadata": {},
   "source": [
    "## Данные"
   ]
  },
  {
   "cell_type": "markdown",
   "metadata": {},
   "source": [
    "Данные представлены двумя датасетами: обучающим (`train`) и тестовым (`test`). Изображения для каждого датасета находятся в `images.zip`.  \n",
    "  \n",
    "Обучающая выборка состоит из 65000 изображений - по 2500 изображений для каждой буквы.  \n",
    "Тестовая выборка состоит из 13000 изображений - по 500 изображений для каждой буквы.  \n",
    "  \n",
    "Все изображения - монохромные (но в формате RGB), размерности $28 \\times 28$ пикселей, в формате JPEG. \n",
    "В названии каждого файла содержатся буква, которая представлена на изображении, и уникальный номер изображения: `a_00002.jpg`.  \n",
    "  \n",
    "**NB:** Все изображения представлены в перевернутом виде, для корректного отображения их нужно сначала транспонировать. "
   ]
  },
  {
   "cell_type": "code",
   "execution_count": 24,
   "metadata": {},
   "outputs": [],
   "source": [
    "import numpy as np\n",
    "import matplotlib.pyplot as plt\n",
    "import seaborn as sns\n",
    "import flickrapi\n",
    "\n",
    "import string\n",
    "\n",
    "from sklearn.preprocessing import *\n",
    "from sklearn.pipeline import *\n",
    "from sklearn.feature_extraction.text import *\n",
    "from sklearn.model_selection import train_test_split\n",
    "from sklearn.decomposition import *\n",
    "\n",
    "import os\n",
    "import random\n",
    "\n",
    "import torch.optim as optim\n",
    "import torch\n",
    "import torch.nn as nn\n",
    "from torch.utils.data import DataLoader, Dataset\n",
    "import torch.optim as optim\n",
    "from sklearn.metrics import log_loss\n",
    "import torchvision\n",
    "from torchvision import datasets, models\n",
    "import torchvision.transforms as transforms\n",
    "\n",
    "device = torch.device('cuda' if torch.cuda.is_available() else 'cpu')"
   ]
  },
  {
   "cell_type": "code",
   "execution_count": 25,
   "metadata": {},
   "outputs": [
    {
     "name": "stdout",
     "output_type": "stream",
     "text": [
      "(28, 28, 3)\n"
     ]
    }
   ],
   "source": [
    "pic = plt.imread('images/train/a/a_00002.jpg')\n",
    "print(pic.shape)"
   ]
  },
  {
   "cell_type": "code",
   "execution_count": 26,
   "metadata": {},
   "outputs": [],
   "source": [
    "pic = np.transpose(pic, axes=(1, 0, 2))"
   ]
  },
  {
   "cell_type": "code",
   "execution_count": 27,
   "metadata": {},
   "outputs": [
    {
     "data": {
      "image/png": "[encoded data removed]",
      "text/plain": [
       "<Figure size 144x144 with 1 Axes>"
      ]
     },
     "metadata": {
      "needs_background": "light"
     },
     "output_type": "display_data"
    }
   ],
   "source": [
    "plt.figure(figsize=(2,2))\n",
    "plt.imshow(pic)\n",
    "plt.show()"
   ]
  },
  {
   "cell_type": "markdown",
   "metadata": {},
   "source": [
    "## Основные задания"
   ]
  },
  {
   "cell_type": "markdown",
   "metadata": {},
   "source": [
    "Ваша задача - создать и обучить модель на основе нейронной сети, которая будет предсказывать букву на картинке.  \n",
    "Обучение необходимо проводить на данных из `train`, качество модели проверять на данных из `test`.  \n",
    "Целевая метрика - accuracy.  \n",
    "Для моделирования необходимо использовать `pytorch`."
   ]
  },
  {
   "cell_type": "markdown",
   "metadata": {},
   "source": [
    "### Задание 1  \n",
    "  \n",
    "*Вес в общей оценке - 0.35*  \n",
    "  \n",
    "1. Постройте и обучите модели с 2-мя и 3-мя полносвязными (dense) скрытыми слоями.  \n",
    "При моделировании необходимо попробовать разные параметры нейронной сети - число нейронов на каждом слое, learning rate, batch size, функции активации, регуляризации и т.д. Оцените качество моделей с различными параметрами, проведите сравнительный анализ. \n",
    "2. Для наилучшей модели постройте confusion matrix результатов предсказаний модели на тестовых данных.  \n",
    "Насколько равномерно обучилась ваша модель? Приведите буквы с самой лучшей и с самой худшей точностью детекции.\n",
    "3. Найдите 10 пар букв, которые чаще всего путаются между собой, дайте возможное объяснение. Приведите примеры с картинками, которые были детектированы с ошибкой.\n",
    "4. Возьмите первую букву вашей фамилии и укажите её точность детекции. С какими буквами ваша модель чаще всего путает эту букву?     "
   ]
  },
  {
   "cell_type": "code",
   "execution_count": 28,
   "metadata": {},
   "outputs": [],
   "source": [
    "data_transforms = {\n",
    "    'train': transforms.Compose([\n",
    "        transforms.ToTensor(),\n",
    "        transforms.Normalize([0.5, 0.5, 0.5], [0.5, 0.5, 0.5])\n",
    "    ]),\n",
    "    'test': transforms.Compose([\n",
    "        transforms.ToTensor(),\n",
    "        transforms.Normalize([0.5, 0.5, 0.5], [0.5, 0.5, 0.5])\n",
    "    ]),\n",
    "}"
   ]
  },
  {
   "cell_type": "code",
   "execution_count": 29,
   "metadata": {},
   "outputs": [],
   "source": [
    "def get_dataset(data_dir, data_transforms, batch_num):\n",
    "    # create train and test datasets\n",
    "    image_datasets = {x: datasets.ImageFolder(os.path.join(data_dir, x),\n",
    "                                              data_transforms[x])\n",
    "                      for x in ['train', 'test']}\n",
    "    dataloaders = {x: torch.utils.data.DataLoader(image_datasets[x], batch_size=batch_num,\n",
    "                                                 shuffle=True, num_workers=0)\n",
    "                  for x in ['train', 'test']}\n",
    "    dataset_sizes = {x: len(image_datasets[x]) for x in ['train', 'test']}\n",
    "    #get classes from train dataset folders name\n",
    "    classes = image_datasets['train'].classes\n",
    "\n",
    "    return dataloaders[\"train\"], dataloaders['test'], classes, dataset_sizes"
   ]
  },
  {
   "cell_type": "code",
   "execution_count": 30,
   "metadata": {},
   "outputs": [
    {
     "name": "stdout",
     "output_type": "stream",
     "text": [
      "Classes:  ['a', 'b', 'c', 'd', 'e', 'f', 'g', 'h', 'i', 'j', 'k', 'l', 'm', 'n', 'o', 'p', 'q', 'r', 's', 't', 'u', 'v', 'w', 'x', 'y', 'z']\n",
      "The datasest have:  {'train': 65000, 'test': 13000}  images\n"
     ]
    }
   ],
   "source": [
    "trainloader, testloader, classes, dataset_sizes=get_dataset('images',data_transforms, 50)\n",
    "print('Classes: ',  classes)\n",
    "print('The datasest have: ',  dataset_sizes ,\" images\")"
   ]
  },
  {
   "cell_type": "code",
   "execution_count": 31,
   "metadata": {},
   "outputs": [],
   "source": [
    "def imshow(img):\n",
    "    img = img / 2 + 0.5      \n",
    "    npimg = img.numpy()\n",
    "    plt.imshow(np.transpose(npimg, (1, 2, 0)))\n",
    "    plt.show()"
   ]
  },
  {
   "cell_type": "code",
   "execution_count": 32,
   "metadata": {},
   "outputs": [
    {
     "data": {
      "image/png": "[encoded data removed]",
      "text/plain": [
       "<Figure size 432x288 with 1 Axes>"
      ]
     },
     "metadata": {
      "needs_background": "light"
     },
     "output_type": "display_data"
    },
    {
     "name": "stdout",
     "output_type": "stream",
     "text": [
      "    z     v     k     p     m     z     l     m     k     n     d     d     x     w     k     s     s     i     t     z     m     d     h     w     m     p     z     d     p     z     c     v     m     z     j     x     y     s     d     h     r     l     y     y     k     h     q     d     p     j\n"
     ]
    }
   ],
   "source": [
    "# рассмотрим рандомные картинки\n",
    "dataiter = iter(trainloader)\n",
    "images, labels = next(dataiter)\n",
    "\n",
    "images = [np.transpose(pic, axes=(0, 2, 1)) for pic in images]\n",
    "imshow(torchvision.utils.make_grid(images))\n",
    "# выведем названия картинок\n",
    "print(' '.join('%5s' % classes[labels[j]] for j in range(50)))"
   ]
  },
  {
   "cell_type": "markdown",
   "metadata": {},
   "source": [
    "## 2 полносвязных (dense) скрытых слоя"
   ]
  },
  {
   "cell_type": "code",
   "execution_count": 44,
   "metadata": {},
   "outputs": [],
   "source": [
    "# используем Relu\n",
    "class Net(nn.Module):\n",
    "    def __init__(self):\n",
    "        super(Net, self).__init__()\n",
    "        self.cnn_layers = nn.Sequential(\n",
    "            nn.Flatten(),\n",
    "            nn.BatchNorm1d(2352),\n",
    "            nn.Linear(28*28*3, 256),\n",
    "            nn.ReLU(),\n",
    "            nn.Linear(256, 26),\n",
    "            nn.ReLU(),\n",
    "            nn.LogSoftmax(dim=1))\n",
    "        \n",
    "    def forward(self, x):\n",
    "        x = self.cnn_layers(x)\n",
    "        return x\n",
    "    \n",
    "net = Net()"
   ]
  },
  {
   "cell_type": "markdown",
   "metadata": {},
   "source": [
    "### lr=0.0001 batch_num = [200, 500, 1000] weight_decay=0"
   ]
  },
  {
   "cell_type": "code",
   "execution_count": 45,
   "metadata": {},
   "outputs": [],
   "source": [
    "criterion = nn.CrossEntropyLoss()  \n",
    "optimizer = torch.optim.Adam(net.parameters(), lr=0.0001, betas=(0.9, 0.99))"
   ]
  },
  {
   "cell_type": "code",
   "execution_count": 46,
   "metadata": {},
   "outputs": [
    {
     "name": "stdout",
     "output_type": "stream",
     "text": [
      "Batch size:  200\n",
      "[1,   100] loss: 2.268\n",
      "[1,   200] loss: 1.234\n",
      "[1,   300] loss: 0.970\n",
      "[2,   100] loss: 0.810\n",
      "[2,   200] loss: 0.747\n",
      "[2,   300] loss: 0.695\n",
      "Finished Training\n",
      "Accuracy: 79 %\n",
      "Batch size:  500\n",
      "[1,   100] loss: 0.612\n",
      "[2,   100] loss: 0.558\n",
      "Finished Training\n",
      "Accuracy: 82 %\n",
      "Batch size:  1000\n",
      "Finished Training\n",
      "Accuracy: 83 %\n"
     ]
    }
   ],
   "source": [
    "acc_ = []\n",
    "batch_num = [200, 500, 1000]\n",
    "\n",
    "for batch in batch_num:\n",
    "    trainloader, testloader, classes, dataset_sizes=get_dataset('images',data_transforms, batch)\n",
    "    \n",
    "    print('Batch size: ', batch)\n",
    "    \n",
    "    for epoch in range(2): \n",
    "\n",
    "        running_loss = 0.0\n",
    "        for i, data in enumerate(trainloader, 0):\n",
    "            inputs, labels = data\n",
    "\n",
    "            optimizer.zero_grad()\n",
    "\n",
    "            outputs = net(inputs)\n",
    "            loss = criterion(outputs, labels)\n",
    "            loss.backward()\n",
    "            optimizer.step()\n",
    "\n",
    "            running_loss += loss.item()\n",
    "            if i % 100 == 99:\n",
    "                print('[%d, %5d] loss: %.3f' %\n",
    "                      (epoch + 1, i + 1, running_loss / 100))\n",
    "                running_loss = 0.0\n",
    "     \n",
    "    print('Finished Training')\n",
    "    \n",
    "    dataiter = iter(testloader)\n",
    "    images, labels = dataiter.next()\n",
    "    \n",
    "    correct = 0\n",
    "    total = 0\n",
    "    with torch.no_grad():\n",
    "        for data in testloader:\n",
    "            images, labels = data\n",
    "            outputs = net(images)\n",
    "            _, predicted = torch.max(outputs.data, 1)\n",
    "            total += labels.size(0)\n",
    "            correct += (predicted == labels).sum().item()\n",
    "\n",
    "    acc_.append(100 * correct / total)\n",
    "            \n",
    "    print('Accuracy: %d %%' % (100 * correct / total))"
   ]
  },
  {
   "cell_type": "code",
   "execution_count": 47,
   "metadata": {},
   "outputs": [
    {
     "name": "stdout",
     "output_type": "stream",
     "text": [
      "Learning rate = 0.0001  --- 2 layers\n"
     ]
    },
    {
     "data": {
      "text/plain": [
       "[<matplotlib.lines.Line2D at 0x281d9245128>]"
      ]
     },
     "execution_count": 47,
     "metadata": {},
     "output_type": "execute_result"
    },
    {
     "data": {
      "image/png": "[encoded data removed]",
      "text/plain": [
       "<Figure size 432x288 with 1 Axes>"
      ]
     },
     "metadata": {
      "needs_background": "light"
     },
     "output_type": "display_data"
    }
   ],
   "source": [
    "print(\"Learning rate = 0.0001  --- 2 layers\")\n",
    "plt.plot(batch_num, acc_)"
   ]
  },
  {
   "cell_type": "markdown",
   "metadata": {},
   "source": [
    "Заметно, что с увеличением batch увеличивается Accuracy. Преимущественное значение оставим 1000."
   ]
  },
  {
   "cell_type": "markdown",
   "metadata": {},
   "source": [
    "### lr=0.0005 batch_num = [200, 500, 1000] weight_decay=0"
   ]
  },
  {
   "cell_type": "code",
   "execution_count": 207,
   "metadata": {},
   "outputs": [],
   "source": [
    "optimizer = torch.optim.Adam(net.parameters(), lr=0.0005, betas=(0.9, 0.99))\n",
    "error_ = []"
   ]
  },
  {
   "cell_type": "code",
   "execution_count": 208,
   "metadata": {},
   "outputs": [
    {
     "name": "stdout",
     "output_type": "stream",
     "text": [
      "Batch size:  200\n",
      "[1,   100] loss: 0.500\n",
      "[1,   200] loss: 0.486\n",
      "[1,   300] loss: 0.445\n",
      "[2,   100] loss: 0.352\n",
      "[2,   200] loss: 0.354\n",
      "[2,   300] loss: 0.352\n",
      "Finished Training\n",
      "Accuracy: 86 %\n",
      "Batch size:  500\n",
      "[1,   100] loss: 0.256\n",
      "[2,   100] loss: 0.224\n",
      "Finished Training\n",
      "Accuracy: 87 %\n",
      "Batch size:  1000\n",
      "Finished Training\n",
      "Accuracy: 88 %\n"
     ]
    }
   ],
   "source": [
    "for batch in batch_num:\n",
    "    trainloader, testloader, classes, dataset_sizes=get_dataset('images',data_transforms, batch)\n",
    "    \n",
    "    print('Batch size: ', batch)\n",
    "    \n",
    "    for epoch in range(2): \n",
    "\n",
    "        running_loss = 0.0\n",
    "        for i, data in enumerate(trainloader, 0):\n",
    "            inputs, labels = data\n",
    "\n",
    "            optimizer.zero_grad()\n",
    "\n",
    "            outputs = net(inputs)\n",
    "            loss = criterion(outputs, labels)\n",
    "            loss.backward()\n",
    "            optimizer.step()\n",
    "\n",
    "            running_loss += loss.item()\n",
    "            if i % 100 == 99:\n",
    "                print('[%d, %5d] loss: %.3f' %\n",
    "                      (epoch + 1, i + 1, running_loss / 100))\n",
    "                running_loss = 0.0\n",
    "     \n",
    "    print('Finished Training')\n",
    "    \n",
    "    dataiter = iter(testloader)\n",
    "    images, labels = dataiter.next()\n",
    "    \n",
    "    correct = 0\n",
    "    total = 0\n",
    "    with torch.no_grad():\n",
    "        for data in testloader:\n",
    "            images, labels = data\n",
    "            outputs = net(images)\n",
    "            _, predicted = torch.max(outputs.data, 1)\n",
    "            total += labels.size(0)\n",
    "            correct += (predicted == labels).sum().item()\n",
    "\n",
    "    error_.append(100 * correct / total)\n",
    "            \n",
    "    print('Accuracy: %d %%' % (100 * correct / total))"
   ]
  },
  {
   "cell_type": "code",
   "execution_count": 209,
   "metadata": {},
   "outputs": [
    {
     "name": "stdout",
     "output_type": "stream",
     "text": [
      "Learning rate = 0.0005  --- 2 layers\n"
     ]
    },
    {
     "data": {
      "text/plain": [
       "[<matplotlib.lines.Line2D at 0x13c891b5668>]"
      ]
     },
     "execution_count": 209,
     "metadata": {},
     "output_type": "execute_result"
    },
    {
     "data": {
      "image/png": "[encoded data removed]",
      "text/plain": [
       "<Figure size 432x288 with 1 Axes>"
      ]
     },
     "metadata": {
      "needs_background": "light"
     },
     "output_type": "display_data"
    }
   ],
   "source": [
    "print(\"Learning rate = 0.0005  --- 2 layers\")\n",
    "plt.plot(batch_num, error_)"
   ]
  },
  {
   "cell_type": "markdown",
   "metadata": {},
   "source": [
    "Мы увеличили значение Learning rate и Accuracy повысилась. Число batch 1000 всё ещё лидирует."
   ]
  },
  {
   "cell_type": "markdown",
   "metadata": {},
   "source": [
    "##### Изменили функции активации Sigmoid, batch_num = 1000, weight_decay=0"
   ]
  },
  {
   "cell_type": "code",
   "execution_count": 161,
   "metadata": {},
   "outputs": [],
   "source": [
    "class Net_Sig(nn.Module):\n",
    "    def __init__(self):\n",
    "        super(Net_Sig, self).__init__()\n",
    "        self.cnn_layers = nn.Sequential(\n",
    "            nn.Flatten(),\n",
    "            nn.BatchNorm1d(2352),\n",
    "            nn.Linear(28*28*3, 256),\n",
    "            nn.Sigmoid(),\n",
    "            nn.Linear(256, 26),\n",
    "            nn.Sigmoid(),\n",
    "            nn.LogSoftmax(dim=1))\n",
    "        \n",
    "    def forward(self, x):\n",
    "        x = self.cnn_layers(x)\n",
    "        return x\n",
    "    \n",
    "net_Sig = Net_Sig()"
   ]
  },
  {
   "cell_type": "code",
   "execution_count": 162,
   "metadata": {},
   "outputs": [],
   "source": [
    "trainloader, testloader, classes, dataset_sizes=get_dataset('images',data_transforms, 1000)\n",
    "optimizer = torch.optim.Adam(net_Sig.parameters(), lr=0.0005, betas=(0.9, 0.99))"
   ]
  },
  {
   "cell_type": "code",
   "execution_count": 163,
   "metadata": {},
   "outputs": [
    {
     "name": "stdout",
     "output_type": "stream",
     "text": [
      "[1,    10] loss: 3.151\n",
      "[1,    20] loss: 3.016\n",
      "[1,    30] loss: 2.947\n",
      "[1,    40] loss: 2.893\n",
      "[1,    50] loss: 2.850\n",
      "[1,    60] loss: 2.816\n",
      "[2,    10] loss: 2.772\n",
      "[2,    20] loss: 2.749\n",
      "[2,    30] loss: 2.734\n",
      "[2,    40] loss: 2.716\n",
      "[2,    50] loss: 2.700\n",
      "[2,    60] loss: 2.685\n",
      "Finished Training\n"
     ]
    }
   ],
   "source": [
    "for epoch in range(2): \n",
    "\n",
    "    running_loss = 0.0\n",
    "    for i, data in enumerate(trainloader, 0):\n",
    "        inputs, labels = data\n",
    "\n",
    "        optimizer.zero_grad()\n",
    "\n",
    "        outputs = net_Sig(inputs)\n",
    "        loss = criterion(outputs, labels)\n",
    "        loss.backward()\n",
    "        optimizer.step()\n",
    "\n",
    "        running_loss += loss.item()\n",
    "        if i % 10 == 9:\n",
    "            print('[%d, %5d] loss: %.3f' %\n",
    "                    (epoch + 1, i + 1, running_loss / 10))\n",
    "            running_loss = 0.0\n",
    "     \n",
    "print('Finished Training')"
   ]
  },
  {
   "cell_type": "code",
   "execution_count": 164,
   "metadata": {},
   "outputs": [
    {
     "name": "stdout",
     "output_type": "stream",
     "text": [
      "Accuracy: 67 %\n"
     ]
    }
   ],
   "source": [
    "dataiter = iter(testloader)\n",
    "images, labels = dataiter.next()\n",
    "    \n",
    "correct = 0\n",
    "total = 0\n",
    "with torch.no_grad():\n",
    "    for data in testloader:\n",
    "        images, labels = data\n",
    "        outputs = net_Sig(images)\n",
    "        _, predicted = torch.max(outputs.data, 1)\n",
    "        total += labels.size(0)\n",
    "        correct += (predicted == labels).sum().item()\n",
    "            \n",
    "print('Accuracy: %d %%' % (100 * correct / total))"
   ]
  },
  {
   "cell_type": "markdown",
   "metadata": {},
   "source": [
    "С Sigmoid заметно, что Accuracy снизилось почти на 20%."
   ]
  },
  {
   "cell_type": "markdown",
   "metadata": {},
   "source": [
    "##### Изменили функции активации Tanh, batch_num = 1000, weight_decay=0"
   ]
  },
  {
   "cell_type": "code",
   "execution_count": 165,
   "metadata": {},
   "outputs": [],
   "source": [
    "class Net_Tanh(nn.Module):\n",
    "    def __init__(self):\n",
    "        super(Net_Tanh, self).__init__()\n",
    "        self.cnn_layers = nn.Sequential(\n",
    "            nn.Flatten(),\n",
    "            nn.BatchNorm1d(2352),\n",
    "            nn.Linear(28*28*3, 256),\n",
    "            nn.Tanh(),\n",
    "            nn.Linear(256, 26),\n",
    "            nn.Tanh(),\n",
    "            nn.LogSoftmax(dim=1))\n",
    "        \n",
    "    def forward(self, x):\n",
    "        x = self.cnn_layers(x)\n",
    "        return x\n",
    "    \n",
    "net_Tanh = Net_Tanh()"
   ]
  },
  {
   "cell_type": "code",
   "execution_count": 166,
   "metadata": {},
   "outputs": [],
   "source": [
    "optimizer = torch.optim.Adam(net_Tanh.parameters(), lr=0.0005, betas=(0.9, 0.99))"
   ]
  },
  {
   "cell_type": "code",
   "execution_count": 167,
   "metadata": {},
   "outputs": [
    {
     "name": "stdout",
     "output_type": "stream",
     "text": [
      "[1,    10] loss: 2.697\n",
      "[1,    20] loss: 2.483\n",
      "[1,    30] loss: 2.439\n",
      "[1,    40] loss: 2.385\n",
      "[1,    50] loss: 2.324\n",
      "[1,    60] loss: 2.262\n",
      "[2,    10] loss: 2.156\n",
      "[2,    20] loss: 2.097\n",
      "[2,    30] loss: 2.055\n",
      "[2,    40] loss: 2.012\n",
      "[2,    50] loss: 1.978\n",
      "[2,    60] loss: 1.964\n",
      "Finished Training\n"
     ]
    }
   ],
   "source": [
    "for epoch in range(2): \n",
    "\n",
    "    running_loss = 0.0\n",
    "    for i, data in enumerate(trainloader, 0):\n",
    "        inputs, labels = data\n",
    "\n",
    "        optimizer.zero_grad()\n",
    "\n",
    "        outputs = net_Tanh(inputs)\n",
    "        loss = criterion(outputs, labels)\n",
    "        loss.backward()\n",
    "        optimizer.step()\n",
    "\n",
    "        running_loss += loss.item()\n",
    "        if i % 10 == 9:\n",
    "            print('[%d, %5d] loss: %.3f' %\n",
    "                    (epoch + 1, i + 1, running_loss / 10))\n",
    "            running_loss = 0.0\n",
    "     \n",
    "print('Finished Training')"
   ]
  },
  {
   "cell_type": "code",
   "execution_count": 168,
   "metadata": {},
   "outputs": [
    {
     "name": "stdout",
     "output_type": "stream",
     "text": [
      "Accuracy: 72 %\n"
     ]
    }
   ],
   "source": [
    "dataiter = iter(testloader)\n",
    "images, labels = dataiter.next()\n",
    "    \n",
    "correct = 0\n",
    "total = 0\n",
    "with torch.no_grad():\n",
    "    for data in testloader:\n",
    "        images, labels = data\n",
    "        outputs = net_Tanh(images)\n",
    "        _, predicted = torch.max(outputs.data, 1)\n",
    "        total += labels.size(0)\n",
    "        correct += (predicted == labels).sum().item()\n",
    "            \n",
    "print('Accuracy: %d %%' % (100 * correct / total))"
   ]
  },
  {
   "cell_type": "markdown",
   "metadata": {},
   "source": [
    "С Tanh заметно, что Accuracy снизилось почти на 10%."
   ]
  },
  {
   "cell_type": "markdown",
   "metadata": {},
   "source": [
    "##### Изменили функцию активации обратно на Relu, изменили число нейронов, batch_num = 1000, weight_decay=0"
   ]
  },
  {
   "cell_type": "code",
   "execution_count": 169,
   "metadata": {},
   "outputs": [],
   "source": [
    "class Net_numNeir(nn.Module):\n",
    "    def __init__(self):\n",
    "        super(Net_numNeir, self).__init__()\n",
    "        self.cnn_layers = nn.Sequential(\n",
    "            nn.Flatten(),\n",
    "            nn.BatchNorm1d(2352),\n",
    "            nn.Linear(28*28*3, 512),\n",
    "            nn.ReLU(),\n",
    "            nn.Linear(512, 26),\n",
    "            nn.ReLU(),\n",
    "            nn.LogSoftmax(dim=1))\n",
    "        \n",
    "    def forward(self, x):\n",
    "        x = self.cnn_layers(x)\n",
    "        return x\n",
    "    \n",
    "net_numNeir = Net_numNeir()"
   ]
  },
  {
   "cell_type": "code",
   "execution_count": 170,
   "metadata": {},
   "outputs": [],
   "source": [
    "optimizer = torch.optim.Adam(net_numNeir.parameters(), lr=0.0005, betas=(0.9, 0.99))"
   ]
  },
  {
   "cell_type": "code",
   "execution_count": 171,
   "metadata": {},
   "outputs": [
    {
     "name": "stdout",
     "output_type": "stream",
     "text": [
      "[1,    10] loss: 2.323\n",
      "[1,    20] loss: 1.281\n",
      "[1,    30] loss: 0.980\n",
      "[1,    40] loss: 0.863\n",
      "[1,    50] loss: 0.767\n",
      "[1,    60] loss: 0.723\n",
      "[2,    10] loss: 0.596\n",
      "[2,    20] loss: 0.575\n",
      "[2,    30] loss: 0.578\n",
      "[2,    40] loss: 0.510\n",
      "[2,    50] loss: 0.503\n",
      "[2,    60] loss: 0.490\n",
      "Finished Training\n"
     ]
    }
   ],
   "source": [
    "for epoch in range(2): \n",
    "\n",
    "    running_loss = 0.0\n",
    "    for i, data in enumerate(trainloader, 0):\n",
    "        inputs, labels = data\n",
    "\n",
    "        optimizer.zero_grad()\n",
    "\n",
    "        outputs = net_numNeir(inputs)\n",
    "        loss = criterion(outputs, labels)\n",
    "        loss.backward()\n",
    "        optimizer.step()\n",
    "\n",
    "        running_loss += loss.item()\n",
    "        if i % 10 == 9:\n",
    "            print('[%d, %5d] loss: %.3f' %\n",
    "                    (epoch + 1, i + 1, running_loss / 10))\n",
    "            running_loss = 0.0\n",
    "     \n",
    "print('Finished Training')"
   ]
  },
  {
   "cell_type": "code",
   "execution_count": 172,
   "metadata": {},
   "outputs": [
    {
     "name": "stdout",
     "output_type": "stream",
     "text": [
      "Accuracy: 84 %\n"
     ]
    }
   ],
   "source": [
    "dataiter = iter(testloader)\n",
    "images, labels = dataiter.next()\n",
    "    \n",
    "correct = 0\n",
    "total = 0\n",
    "with torch.no_grad():\n",
    "    for data in testloader:\n",
    "        images, labels = data\n",
    "        outputs = net_numNeir(images)\n",
    "        _, predicted = torch.max(outputs.data, 1)\n",
    "        total += labels.size(0)\n",
    "        correct += (predicted == labels).sum().item()\n",
    "            \n",
    "print('Accuracy: %d %%' % (100 * correct / total))"
   ]
  },
  {
   "cell_type": "markdown",
   "metadata": {},
   "source": [
    "Accuracy не сильно изменилась, когда мы поменяли число нейронов, поэтому оставим первую модель предпочтительной с числом batch равным 1000."
   ]
  },
  {
   "cell_type": "markdown",
   "metadata": {},
   "source": [
    "##### Изменили weight_decay"
   ]
  },
  {
   "cell_type": "code",
   "execution_count": 173,
   "metadata": {},
   "outputs": [
    {
     "name": "stdout",
     "output_type": "stream",
     "text": [
      "Weight_decay:  0.0001\n",
      "[1,    10] loss: 0.161\n",
      "[1,    20] loss: 0.174\n",
      "[1,    30] loss: 0.183\n",
      "[1,    40] loss: 0.167\n",
      "[1,    50] loss: 0.180\n",
      "[1,    60] loss: 0.186\n",
      "[2,    10] loss: 0.148\n",
      "[2,    20] loss: 0.146\n",
      "[2,    30] loss: 0.163\n",
      "[2,    40] loss: 0.158\n",
      "[2,    50] loss: 0.164\n",
      "[2,    60] loss: 0.154\n",
      "Finished Training\n",
      "Accuracy: 87 %\n",
      "Weight_decay:  0.0005\n",
      "[1,    10] loss: 0.139\n",
      "[1,    20] loss: 0.158\n",
      "[1,    30] loss: 0.153\n",
      "[1,    40] loss: 0.162\n",
      "[1,    50] loss: 0.161\n",
      "[1,    60] loss: 0.161\n",
      "[2,    10] loss: 0.131\n",
      "[2,    20] loss: 0.139\n",
      "[2,    30] loss: 0.146\n",
      "[2,    40] loss: 0.145\n",
      "[2,    50] loss: 0.153\n",
      "[2,    60] loss: 0.154\n",
      "Finished Training\n",
      "Accuracy: 88 %\n"
     ]
    }
   ],
   "source": [
    "accur_ = []\n",
    "weights = [0.0001, 0.0005]\n",
    "\n",
    "for weight in weights:\n",
    "    optimizer = torch.optim.Adam(net.parameters(), lr=0.0005, betas=(0.9, 0.99), weight_decay=weight)\n",
    "    print('Weight_decay: ', weight)\n",
    "    for epoch in range(2): \n",
    "\n",
    "        running_loss = 0.0\n",
    "        for i, data in enumerate(trainloader, 0):\n",
    "            inputs, labels = data\n",
    "\n",
    "            optimizer.zero_grad()\n",
    "\n",
    "            outputs = net(inputs)\n",
    "            loss = criterion(outputs, labels)\n",
    "            loss.backward()\n",
    "            optimizer.step()\n",
    "\n",
    "            running_loss += loss.item()\n",
    "            if i % 10 == 9:\n",
    "                print('[%d, %5d] loss: %.3f' %\n",
    "                        (epoch + 1, i + 1, running_loss / 10))\n",
    "                running_loss = 0.0\n",
    "     \n",
    "    print('Finished Training')\n",
    "    \n",
    "    dataiter = iter(testloader)\n",
    "    images, labels = dataiter.next()\n",
    "    \n",
    "    correct = 0\n",
    "    total = 0\n",
    "    with torch.no_grad():\n",
    "        for data in testloader:\n",
    "            images, labels = data\n",
    "            outputs = net(images)\n",
    "            _, predicted = torch.max(outputs.data, 1)\n",
    "            total += labels.size(0)\n",
    "            correct += (predicted == labels).sum().item()\n",
    "    \n",
    "    accur_.append(100 * correct / total)\n",
    "            \n",
    "    print('Accuracy: %d %%' % (100 * correct / total))"
   ]
  },
  {
   "cell_type": "code",
   "execution_count": 174,
   "metadata": {},
   "outputs": [
    {
     "name": "stdout",
     "output_type": "stream",
     "text": [
      "Learning rate = 0.0005, batch size = 1000  --- 2 layers\n"
     ]
    },
    {
     "data": {
      "text/plain": [
       "[<matplotlib.lines.Line2D at 0x13c8091cdd8>]"
      ]
     },
     "execution_count": 174,
     "metadata": {},
     "output_type": "execute_result"
    },
    {
     "data": {
      "image/png": "[encoded data removed]",
      "text/plain": [
       "<Figure size 432x288 with 1 Axes>"
      ]
     },
     "metadata": {
      "needs_background": "light"
     },
     "output_type": "display_data"
    }
   ],
   "source": [
    "print(\"Learning rate = 0.0005, batch size = 1000  --- 2 layers\")\n",
    "plt.plot(weights, accur_)"
   ]
  },
  {
   "cell_type": "markdown",
   "metadata": {},
   "source": [
    "При добавлении регуляризации качество нашей модели улучшилось, но не значительно.\n",
    "Рассмотрим теперь 3 полносвязных (dense) скрытых слоя."
   ]
  },
  {
   "cell_type": "markdown",
   "metadata": {},
   "source": [
    "Везде число эпох равнялось 2, так как для количества эпох = 10 на подсчёт каждой модели уходило более 1 часа. При 10 качество модели улучшалось в среднем на 4-5%"
   ]
  },
  {
   "cell_type": "markdown",
   "metadata": {},
   "source": [
    "## 3 полносвязных (dense) скрытых слоя"
   ]
  },
  {
   "cell_type": "code",
   "execution_count": 175,
   "metadata": {},
   "outputs": [],
   "source": [
    "# Используем Relu\n",
    "class Net_lay3(nn.Module):\n",
    "    def __init__(self):\n",
    "        super(Net_lay3, self).__init__()\n",
    "        self.cnn_layers = nn.Sequential(\n",
    "        nn.Flatten(),\n",
    "        nn.BatchNorm1d(2352),\n",
    "        nn.Linear(28*28*3, 300),\n",
    "        nn.ReLU(),\n",
    "        nn.Linear(300, 200),\n",
    "        nn.ReLU(),\n",
    "        nn.Linear(200, 26),\n",
    "        nn.LogSoftmax(dim=1))\n",
    "\n",
    "    def forward(self, x):\n",
    "        x = self.cnn_layers(x)\n",
    "        return x\n",
    "\n",
    "net_lay3 = Net_lay3()"
   ]
  },
  {
   "cell_type": "markdown",
   "metadata": {},
   "source": [
    "##### lr = 0.0001  batch_num = [50, 200, 500, 1000] weight_decay=0.0001"
   ]
  },
  {
   "cell_type": "code",
   "execution_count": 176,
   "metadata": {},
   "outputs": [],
   "source": [
    "criterion = nn.CrossEntropyLoss() \n",
    "optimizer = torch.optim.Adam(net_lay3.parameters(), lr=0.0001, betas=(0.9, 0.99), weight_decay=0.0001)"
   ]
  },
  {
   "cell_type": "code",
   "execution_count": 177,
   "metadata": {},
   "outputs": [
    {
     "name": "stdout",
     "output_type": "stream",
     "text": [
      "Batch size:  50\n",
      "Finished Training\n",
      "Accuracy: 83 %\n",
      "Batch size:  200\n",
      "Finished Training\n",
      "Accuracy: 86 %\n",
      "Batch size:  500\n",
      "Finished Training\n",
      "Accuracy: 87 %\n",
      "Batch size:  1000\n",
      "Finished Training\n",
      "Accuracy: 87 %\n"
     ]
    }
   ],
   "source": [
    "acc = []\n",
    "batch_num = [50, 200, 500, 1000]\n",
    "error = []\n",
    "\n",
    "for batch in batch_num:\n",
    "    trainloader, testloader, classes, dataset_sizes=get_dataset('images',data_transforms, batch)\n",
    "    \n",
    "    print('Batch size: ', batch)\n",
    "    \n",
    "\n",
    "    for epoch in range(2):\n",
    "    \n",
    "        running_loss = 0.0\n",
    "        for i, data in enumerate(trainloader, 0):\n",
    "            inputs, labels = data\n",
    "        \n",
    "            optimizer.zero_grad()\n",
    "    \n",
    "            outputs = net_lay3(inputs)\n",
    "            loss = criterion(outputs, labels)\n",
    "            loss.backward()\n",
    "            optimizer.step()\n",
    "        \n",
    "            running_loss += loss.item()\n",
    "            if i % 2000 == 1999:\n",
    "                print('[%d, %5d] loss: %.3f' %\n",
    "                     (epoch + 1, i + 1, running_loss / 2000))\n",
    "                running_loss = 0.0\n",
    "          \n",
    "    print('Finished Training')\n",
    "    \n",
    "    dataiter = iter(testloader)\n",
    "    images, labels = dataiter.next()\n",
    "    \n",
    "    correct = 0\n",
    "    total = 0\n",
    "    with torch.no_grad():\n",
    "        for data in testloader:\n",
    "            images, labels = data\n",
    "            outputs = net_lay3(images)\n",
    "            _, predicted = torch.max(outputs.data, 1)\n",
    "            total += labels.size(0)\n",
    "            correct += (predicted == labels).sum().item()\n",
    "    acc.append(round(100 * correct) / total)\n",
    "    print('Accuracy: %d %%' % (100 * correct / total))"
   ]
  },
  {
   "cell_type": "markdown",
   "metadata": {},
   "source": [
    "В сравнение с 2мя полносвязными слоями Accuracy нашей модели осталась практически неизменной."
   ]
  },
  {
   "cell_type": "code",
   "execution_count": 178,
   "metadata": {},
   "outputs": [
    {
     "name": "stdout",
     "output_type": "stream",
     "text": [
      "Learning rate = 0.0001  --- 3 layers\n"
     ]
    },
    {
     "data": {
      "text/plain": [
       "[<matplotlib.lines.Line2D at 0x13c88785b38>]"
      ]
     },
     "execution_count": 178,
     "metadata": {},
     "output_type": "execute_result"
    },
    {
     "data": {
      "image/png": "[encoded data removed]",
      "text/plain": [
       "<Figure size 432x288 with 1 Axes>"
      ]
     },
     "metadata": {
      "needs_background": "light"
     },
     "output_type": "display_data"
    }
   ],
   "source": [
    "print(\"Learning rate = 0.0001  --- 3 layers\")\n",
    "plt.plot(batch_num, acc)"
   ]
  },
  {
   "cell_type": "markdown",
   "metadata": {},
   "source": [
    "Как и с 2мя полносвязными слоями чем больше batch, тем выше Accuracy. Предпочтительным остается batch_size = 1000."
   ]
  },
  {
   "cell_type": "markdown",
   "metadata": {},
   "source": [
    "##### lr = 0.0005 batch_num = [500, 1000] weight_decay=0.0001"
   ]
  },
  {
   "cell_type": "code",
   "execution_count": 179,
   "metadata": {},
   "outputs": [],
   "source": [
    "criterion = nn.CrossEntropyLoss() \n",
    "optimizer = torch.optim.Adam(net_lay3.parameters(), lr=0.0005, betas=(0.9, 0.99), weight_decay=0.0001)"
   ]
  },
  {
   "cell_type": "code",
   "execution_count": 180,
   "metadata": {},
   "outputs": [
    {
     "name": "stdout",
     "output_type": "stream",
     "text": [
      "Batch size:  500\n",
      "Finished Training\n",
      "Accuracy: 87 %\n",
      "Batch size:  1000\n",
      "Finished Training\n",
      "Accuracy: 88 %\n"
     ]
    }
   ],
   "source": [
    "acc = []\n",
    "batch_num = [500, 1000]\n",
    "  \n",
    "for batch in batch_num:\n",
    "    trainloader, testloader, classes, dataset_sizes=get_dataset('images',data_transforms, batch)\n",
    "    \n",
    "    print('Batch size: ', batch)\n",
    "    \n",
    "\n",
    "    for epoch in range(2):\n",
    "    \n",
    "        running_loss = 0.0\n",
    "        for i, data in enumerate(trainloader, 0):\n",
    "            inputs, labels = data\n",
    "        \n",
    "            optimizer.zero_grad()\n",
    "    \n",
    "            outputs = net_lay3(inputs)\n",
    "            loss = criterion(outputs, labels)\n",
    "            loss.backward()\n",
    "            optimizer.step()\n",
    "        \n",
    "            running_loss += loss.item()\n",
    "            if i % 2000 == 1999:\n",
    "                print('[%d, %5d] loss: %.3f' %\n",
    "                     (epoch + 1, i + 1, running_loss / 2000))\n",
    "                running_loss = 0.0\n",
    "          \n",
    "    print('Finished Training')\n",
    "    \n",
    "    dataiter = iter(testloader)\n",
    "    images, labels = dataiter.next()\n",
    "    \n",
    "    correct = 0\n",
    "    total = 0\n",
    "    with torch.no_grad():\n",
    "        for data in testloader:\n",
    "            images, labels = data\n",
    "            outputs = net_lay3(images)\n",
    "            _, predicted = torch.max(outputs.data, 1)\n",
    "            total += labels.size(0)\n",
    "            correct += (predicted == labels).sum().item()\n",
    "    acc.append(round(100 * correct) / total)\n",
    "    print('Accuracy: %d %%' % (100 * correct / total))"
   ]
  },
  {
   "cell_type": "code",
   "execution_count": 181,
   "metadata": {},
   "outputs": [
    {
     "name": "stdout",
     "output_type": "stream",
     "text": [
      "Learning rate = 0.0001  --- 3 layers\n"
     ]
    },
    {
     "data": {
      "text/plain": [
       "[<matplotlib.lines.Line2D at 0x13c891f7fd0>]"
      ]
     },
     "execution_count": 181,
     "metadata": {},
     "output_type": "execute_result"
    },
    {
     "data": {
      "image/png": "[encoded data removed]",
      "text/plain": [
       "<Figure size 432x288 with 1 Axes>"
      ]
     },
     "metadata": {
      "needs_background": "light"
     },
     "output_type": "display_data"
    }
   ],
   "source": [
    "print(\"Learning rate = 0.0001  --- 3 layers\")\n",
    "plt.plot(batch_num, acc)"
   ]
  },
  {
   "cell_type": "markdown",
   "metadata": {},
   "source": [
    "Изменение Learning rate в данном случае не сильно повлиял на Accuracy"
   ]
  },
  {
   "cell_type": "markdown",
   "metadata": {},
   "source": [
    "##### Изменили функции активации, batch_num = [300, 500, 800, 1000], weight_decay=0"
   ]
  },
  {
   "cell_type": "code",
   "execution_count": 182,
   "metadata": {},
   "outputs": [],
   "source": [
    "class Net_Tanh_lay3(nn.Module):\n",
    "    def __init__(self):\n",
    "        super(Net_Tanh_lay3, self).__init__()\n",
    "        self.cnn_layers = nn.Sequential(\n",
    "        nn.Flatten(),\n",
    "        nn.BatchNorm1d(2352),\n",
    "        nn.Linear(28*28*3, 300),\n",
    "        nn.Tanh(),\n",
    "        nn.Linear(300, 200),\n",
    "        nn.Tanh(),\n",
    "        nn.Linear(200, 26),\n",
    "        nn.LogSoftmax(dim=1))\n",
    "\n",
    "    def forward(self, x):\n",
    "        x = self.cnn_layers(x)\n",
    "        return x\n",
    "\n",
    "net_Tanh_lay3 = Net_Tanh_lay3()"
   ]
  },
  {
   "cell_type": "code",
   "execution_count": 183,
   "metadata": {},
   "outputs": [],
   "source": [
    "criterion = nn.CrossEntropyLoss()      # (logsoftmax + negative likelihood) in its core, applied to logits\n",
    "optimizer = torch.optim.Adam(net_Tanh_lay3.parameters(), lr=0.0005, betas=(0.9, 0.99))"
   ]
  },
  {
   "cell_type": "code",
   "execution_count": 184,
   "metadata": {},
   "outputs": [
    {
     "name": "stdout",
     "output_type": "stream",
     "text": [
      "Batch size:  300\n",
      "Finished Training\n",
      "Accuracy: 83 %\n",
      "Batch size:  500\n",
      "Finished Training\n",
      "Accuracy: 85 %\n",
      "Batch size:  800\n",
      "Finished Training\n",
      "Accuracy: 86 %\n",
      "Batch size:  1000\n",
      "Finished Training\n",
      "Accuracy: 87 %\n"
     ]
    }
   ],
   "source": [
    "acc = []\n",
    "batch_num = [300, 500, 800, 1000]\n",
    "  \n",
    "for batch in batch_num:\n",
    "    trainloader, testloader, classes, dataset_sizes=get_dataset('images',data_transforms, batch)\n",
    "    \n",
    "    print('Batch size: ', batch)\n",
    "    \n",
    "\n",
    "    for epoch in range(2):\n",
    "    \n",
    "        running_loss = 0.0\n",
    "        for i, data in enumerate(trainloader, 0):\n",
    "            inputs, labels = data\n",
    "        \n",
    "            optimizer.zero_grad()\n",
    "    \n",
    "            outputs = net_Tanh_lay3(inputs)\n",
    "            loss = criterion(outputs, labels)\n",
    "            loss.backward()\n",
    "            optimizer.step()\n",
    "        \n",
    "            running_loss += loss.item()\n",
    "            if i % 2000 == 1999:\n",
    "                print('[%d, %5d] loss: %.3f' %\n",
    "                     (epoch + 1, i + 1, running_loss / 2000))\n",
    "                running_loss = 0.0\n",
    "          \n",
    "    print('Finished Training')\n",
    "    \n",
    "    dataiter = iter(testloader)\n",
    "    images, labels = dataiter.next()\n",
    "    \n",
    "    correct = 0\n",
    "    total = 0\n",
    "    with torch.no_grad():\n",
    "        for data in testloader:\n",
    "            images, labels = data\n",
    "            outputs = net_Tanh_lay3(images)\n",
    "            _, predicted = torch.max(outputs.data, 1)\n",
    "            total += labels.size(0)\n",
    "            correct += (predicted == labels).sum().item()\n",
    "    acc.append(round(100 * correct) / total)\n",
    "    print('Accuracy: %d %%' % (100 * correct / total))"
   ]
  },
  {
   "cell_type": "code",
   "execution_count": 185,
   "metadata": {},
   "outputs": [
    {
     "name": "stdout",
     "output_type": "stream",
     "text": [
      "Learning rate = 0.0001  --- 3 layers\n"
     ]
    },
    {
     "data": {
      "text/plain": [
       "[<matplotlib.lines.Line2D at 0x13c8243d1d0>]"
      ]
     },
     "execution_count": 185,
     "metadata": {},
     "output_type": "execute_result"
    },
    {
     "data": {
      "image/png": "[encoded data removed]",
      "text/plain": [
       "<Figure size 432x288 with 1 Axes>"
      ]
     },
     "metadata": {
      "needs_background": "light"
     },
     "output_type": "display_data"
    }
   ],
   "source": [
    "print(\"Learning rate = 0.0001  --- 3 layers\")\n",
    "plt.plot(batch_num, acc)"
   ]
  },
  {
   "cell_type": "markdown",
   "metadata": {},
   "source": [
    "При использовании Tanh не изменилось Accuracy."
   ]
  },
  {
   "cell_type": "markdown",
   "metadata": {},
   "source": [
    "##### Изменили функцию активации обратно на Relu, изменили число нейронов, batch_num = 1000, weight_decay=0"
   ]
  },
  {
   "cell_type": "code",
   "execution_count": 186,
   "metadata": {},
   "outputs": [],
   "source": [
    "class Net_numNeir_lay3(nn.Module):\n",
    "    def __init__(self):\n",
    "        super(Net_numNeir_lay3, self).__init__()\n",
    "        self.cnn_layers = nn.Sequential(\n",
    "            nn.Flatten(),\n",
    "            nn.BatchNorm1d(2352),\n",
    "            nn.Linear(28*28*3, 512),\n",
    "            nn.ReLU(),\n",
    "            nn.Linear(512, 512),\n",
    "            nn.ReLU(),\n",
    "            nn.Linear(512, 26),\n",
    "            nn.LogSoftmax(dim=1))\n",
    "        \n",
    "    def forward(self, x):\n",
    "        x = self.cnn_layers(x)\n",
    "        return x\n",
    "    \n",
    "net_numNeir_lay3 = Net_numNeir_lay3()"
   ]
  },
  {
   "cell_type": "code",
   "execution_count": 187,
   "metadata": {},
   "outputs": [],
   "source": [
    "err = []\n",
    "optimizer = torch.optim.Adam(net_numNeir_lay3.parameters(), lr=0.0005, betas=(0.9, 0.99))\n",
    "trainloader, testloader, classes, dataset_sizes=get_dataset('images',data_transforms, 1000)"
   ]
  },
  {
   "cell_type": "code",
   "execution_count": 188,
   "metadata": {},
   "outputs": [
    {
     "name": "stdout",
     "output_type": "stream",
     "text": [
      "[1,    10] loss: 2.545\n",
      "[1,    20] loss: 1.326\n",
      "[1,    30] loss: 1.002\n",
      "[1,    40] loss: 0.849\n",
      "[1,    50] loss: 0.736\n",
      "[1,    60] loss: 0.673\n",
      "[2,    10] loss: 0.558\n",
      "[2,    20] loss: 0.523\n",
      "[2,    30] loss: 0.495\n",
      "[2,    40] loss: 0.478\n",
      "[2,    50] loss: 0.456\n",
      "[2,    60] loss: 0.462\n",
      "Finished Training\n"
     ]
    }
   ],
   "source": [
    "for epoch in range(2): \n",
    "\n",
    "    running_loss = 0.0\n",
    "    for i, data in enumerate(trainloader, 0):\n",
    "        inputs, labels = data\n",
    "\n",
    "        optimizer.zero_grad()\n",
    "\n",
    "        outputs = net_numNeir_lay3(inputs)\n",
    "        loss = criterion(outputs, labels)\n",
    "        loss.backward()\n",
    "        optimizer.step()\n",
    "\n",
    "        running_loss += loss.item()\n",
    "        if i % 10 == 9:\n",
    "            print('[%d, %5d] loss: %.3f' %\n",
    "                    (epoch + 1, i + 1, running_loss / 10))\n",
    "            running_loss = 0.0\n",
    "     \n",
    "print('Finished Training')"
   ]
  },
  {
   "cell_type": "code",
   "execution_count": 189,
   "metadata": {},
   "outputs": [
    {
     "name": "stdout",
     "output_type": "stream",
     "text": [
      "Accuracy: 85 %\n"
     ]
    }
   ],
   "source": [
    "dataiter = iter(testloader)\n",
    "images, labels = dataiter.next()\n",
    "    \n",
    "correct = 0\n",
    "total = 0\n",
    "with torch.no_grad():\n",
    "    for data in testloader:\n",
    "        images, labels = data\n",
    "        outputs = net_numNeir_lay3(images)\n",
    "        _, predicted = torch.max(outputs.data, 1)\n",
    "        total += labels.size(0)\n",
    "        correct += (predicted == labels).sum().item()\n",
    "            \n",
    "print('Accuracy: %d %%' % (100 * correct / total))"
   ]
  },
  {
   "cell_type": "markdown",
   "metadata": {},
   "source": [
    "При изменении числа нейронов Accuracy нашей модели с batch_size = 1000 понизилось по сравнению с более ранними моделями."
   ]
  },
  {
   "cell_type": "markdown",
   "metadata": {},
   "source": [
    "##### Изменили weight_decay = [0.0001, 0.0005, 0.001], lr = 0.005 batch_num = 1000. Ввозьмем модель net"
   ]
  },
  {
   "cell_type": "code",
   "execution_count": 191,
   "metadata": {},
   "outputs": [],
   "source": [
    "weights = [0.0001, 0.0005, 0.001]\n",
    "trainloader, testloader, classes, dataset_sizes=get_dataset('images',data_transforms, 1000)"
   ]
  },
  {
   "cell_type": "code",
   "execution_count": 192,
   "metadata": {},
   "outputs": [
    {
     "name": "stdout",
     "output_type": "stream",
     "text": [
      "Weight_decay:  0.0001\n",
      "[1,    10] loss: 0.161\n",
      "[1,    20] loss: 0.155\n",
      "[1,    30] loss: 0.146\n",
      "[1,    40] loss: 0.154\n",
      "[1,    50] loss: 0.154\n",
      "[1,    60] loss: 0.155\n",
      "[2,    10] loss: 0.157\n",
      "[2,    20] loss: 0.159\n",
      "[2,    30] loss: 0.152\n",
      "[2,    40] loss: 0.152\n",
      "[2,    50] loss: 0.157\n",
      "[2,    60] loss: 0.154\n",
      "Finished Training\n",
      "Accuracy: 88 %\n",
      "Weight_decay:  0.0005\n",
      "[1,    10] loss: 0.152\n",
      "[1,    20] loss: 0.159\n",
      "[1,    30] loss: 0.151\n",
      "[1,    40] loss: 0.153\n",
      "[1,    50] loss: 0.155\n",
      "[1,    60] loss: 0.161\n",
      "[2,    10] loss: 0.155\n",
      "[2,    20] loss: 0.150\n",
      "[2,    30] loss: 0.157\n",
      "[2,    40] loss: 0.152\n",
      "[2,    50] loss: 0.159\n",
      "[2,    60] loss: 0.156\n",
      "Finished Training\n",
      "Accuracy: 88 %\n",
      "Weight_decay:  0.001\n",
      "[1,    10] loss: 0.159\n",
      "[1,    20] loss: 0.156\n",
      "[1,    30] loss: 0.161\n",
      "[1,    40] loss: 0.151\n",
      "[1,    50] loss: 0.148\n",
      "[1,    60] loss: 0.157\n",
      "[2,    10] loss: 0.156\n",
      "[2,    20] loss: 0.156\n",
      "[2,    30] loss: 0.159\n",
      "[2,    40] loss: 0.152\n",
      "[2,    50] loss: 0.150\n",
      "[2,    60] loss: 0.156\n",
      "Finished Training\n",
      "Accuracy: 88 %\n"
     ]
    }
   ],
   "source": [
    "accur = []\n",
    "\n",
    "for weight in weights:\n",
    "    optimizer = torch.optim.Adam(net.parameters(), lr=0.0005, betas=(0.9, 0.99), weight_decay=weight)\n",
    "    print('Weight_decay: ', weight)\n",
    "    for epoch in range(2): \n",
    "\n",
    "        running_loss = 0.0\n",
    "        for i, data in enumerate(trainloader, 0):\n",
    "            inputs, labels = data\n",
    "\n",
    "            optimizer.zero_grad()\n",
    "\n",
    "            outputs = net_lay3(inputs)\n",
    "            loss = criterion(outputs, labels)\n",
    "            loss.backward()\n",
    "            optimizer.step()\n",
    "\n",
    "            running_loss += loss.item()\n",
    "            if i % 10 == 9:\n",
    "                print('[%d, %5d] loss: %.3f' %\n",
    "                        (epoch + 1, i + 1, running_loss / 10))\n",
    "                running_loss = 0.0\n",
    "     \n",
    "    print('Finished Training')\n",
    "    \n",
    "    dataiter = iter(testloader)\n",
    "    images, labels = dataiter.next()\n",
    "    \n",
    "    correct = 0\n",
    "    total = 0\n",
    "    with torch.no_grad():\n",
    "        for data in testloader:\n",
    "            images, labels = data\n",
    "            outputs = net_lay3(images)\n",
    "            _, predicted = torch.max(outputs.data, 1)\n",
    "            total += labels.size(0)\n",
    "            correct += (predicted == labels).sum().item()\n",
    "    \n",
    "    accur.append(100 * correct / total)\n",
    "            \n",
    "    print('Accuracy: %d %%' % (100 * correct / total))"
   ]
  },
  {
   "cell_type": "code",
   "execution_count": 193,
   "metadata": {},
   "outputs": [
    {
     "name": "stdout",
     "output_type": "stream",
     "text": [
      "Learning rate = 0.0005, batch size = 1000  --- 3 layers\n"
     ]
    },
    {
     "data": {
      "text/plain": [
       "[<matplotlib.lines.Line2D at 0x13c8377dba8>]"
      ]
     },
     "execution_count": 193,
     "metadata": {},
     "output_type": "execute_result"
    },
    {
     "data": {
      "image/png": "[encoded data removed]",
      "text/plain": [
       "<Figure size 432x288 with 1 Axes>"
      ]
     },
     "metadata": {
      "needs_background": "light"
     },
     "output_type": "display_data"
    }
   ],
   "source": [
    "print(\"Learning rate = 0.0005, batch size = 1000  --- 3 layers\")\n",
    "plt.plot(weights, accur)"
   ]
  },
  {
   "cell_type": "markdown",
   "metadata": {},
   "source": [
    "Видно, что при регуляризации оптимально использовать weight_decay = 0.0005."
   ]
  },
  {
   "cell_type": "markdown",
   "metadata": {},
   "source": [
    "Выберем наилучшей конфигурацией модель net (с 2мя полносвязными слоями). И с ней выполним оценку предсказаний для каждой буквы и для первой буквы моей фамилии (Соколова - 's')."
   ]
  },
  {
   "cell_type": "code",
   "execution_count": 48,
   "metadata": {},
   "outputs": [],
   "source": [
    "from sklearn.metrics import confusion_matrix"
   ]
  },
  {
   "cell_type": "code",
   "execution_count": 49,
   "metadata": {},
   "outputs": [],
   "source": [
    "images, labels = data"
   ]
  },
  {
   "cell_type": "code",
   "execution_count": 50,
   "metadata": {},
   "outputs": [],
   "source": [
    "labels_all = []\n",
    "pred_all = []\n",
    "images_all = []\n",
    "with torch.no_grad():\n",
    "    for data in testloader:\n",
    "        images, labels = data\n",
    "        outputs = net(images)\n",
    "        _, predicted = torch.max(outputs.data, 1)\n",
    "        total += labels.size(0)\n",
    "        correct += (predicted == labels).sum().item()\n",
    "        labels_all = labels_all + list(labels)\n",
    "        pred_all = pred_all + list(predicted)\n",
    "        for im in images:\n",
    "            images_all.append(list(im))"
   ]
  },
  {
   "cell_type": "code",
   "execution_count": 51,
   "metadata": {},
   "outputs": [],
   "source": [
    "cm = confusion_matrix(labels_all, pred_all)"
   ]
  },
  {
   "cell_type": "code",
   "execution_count": 52,
   "metadata": {},
   "outputs": [
    {
     "name": "stdout",
     "output_type": "stream",
     "text": [
      "Confusion matrix:  [[  8 435   0  10   2   0  10   8   2   1   0   2   1   1   4   1   4   0\n",
      "    3   0   1   0   0   1   0]\n",
      " [  4   0 453   0  23   0   1   0   1   2   1   1   0   0   8   0   1   3\n",
      "    0   1   1   0   0   0   0]\n",
      " [  2  15   0 421   0   1   6   4   2   4   2   5   0   3  19   1   2   0\n",
      "    1   1   4   0   2   0   0]\n",
      " [  3   5  22   0 441   2   3   1   1   1   2   1   0   1   1   0   1   3\n",
      "    1   3   1   2   1   0   0]\n",
      " [  4   0   0   0   1 416   8   0   3   1   0   1   1   2   0  25   9   6\n",
      "    1  18   0   0   0   0   3]\n",
      " [ 14  13   5   2   2   6 332   0   0   6   0   0   1   1   2   0  86   2\n",
      "   13   2   2   1   1   0   8]\n",
      " [ 12   5   0   4   0   1   1 408   2   0  16   8   4  24   0   1   0   0\n",
      "    0   2   3   1   2   5   1]\n",
      " [  0   0   0   2   2   3   2   0 355  16   0  86   0   0   0   0   2   3\n",
      "    1   2   0   0   0   7   4]\n",
      " [  0   1   0  10   0   0   3   3  10 431   0   5   0   0   0   0   1   1\n",
      "   12   8   6   2   1   0   2]\n",
      " [  3   9   1   1   0   4   0  18   2   0 420   2   2   1   0   1   0   9\n",
      "    0   4   4   3   0  12   3]\n",
      " [  0   2   3   2   0   1   0   2 143   2   2 338   0   1   0   0   0   1\n",
      "    0   0   0   0   0   0   3]\n",
      " [  4   0   0   0   1   0   1   6   0   0   0   0 459  19   0   1   2   2\n",
      "    0   0   4   0   1   0   0]\n",
      " [ 15   2   0   2   2   0   1  10   0   0   6   0  14 407   1   1   1   3\n",
      "    0   1   8   4  13   4   1]\n",
      " [  5   0   5   8   1   0   4   0   2   1   0   0   0   1 465   0   2   0\n",
      "    2   0   3   1   0   0   0]\n",
      " [  2   0   1   3   2  13   1   1   0   0   1   0   1   5   0 444  12   3\n",
      "    0   2   0   0   0   0   9]\n",
      " [ 21   4   0   2   2   5  67   0   2   0   2   2   0   1   5   8 364   2\n",
      "    1   2   1   0   1   0   8]\n",
      " [ 14   1   5   0   9   9   0   6   2   0  10   1   4   5   1  12   1 400\n",
      "    0   6   0   4   0   7   1]\n",
      " [  1   3   1   1   3   1  13   0   3  13   1   0   0   0   1   0   5   0\n",
      "  451   0   1   0   0   2   0]\n",
      " [  2   0   3   3   7  16   2   2   6   3   2  10   1   0   0   1   2  12\n",
      "    0 413   0   1   0   1  12]\n",
      " [  3   0   0  12   0   0   2   1   0   3   1   1   4   9   1   0   0   1\n",
      "    0   1 439  13   5   4   0]\n",
      " [  0   0   0   2   0   1   0   1   1   1   7   0   0   4   1   1   0   5\n",
      "    0   2  21 430   3   4  16]\n",
      " [  3   3   0   2   0   0   0   5   0   0   3   0   1   8   0   0   0   0\n",
      "    1   2  10   4 457   0   1]\n",
      " [  8   1   0   1   0   2   3   1   3   0  12   1   4   2   0   1   2   0\n",
      "    0   1   1   8   0 431  18]\n",
      " [  1   0   0   5   2   2   9   1   1   5   0   2   1   3   1   2   1   6\n",
      "    0   7   3  23   1   9 414]\n",
      " [  5   3   2   3   3   1   2   0   5   6   1   4   0   0   0   1   7   0\n",
      "    1   2   1   0   2   6   0]]\n"
     ]
    }
   ],
   "source": [
    "print('Confusion matrix: ', cm[1:27, 0:25]) "
   ]
  },
  {
   "cell_type": "code",
   "execution_count": 53,
   "metadata": {},
   "outputs": [
    {
     "data": {
      "text/plain": [
       "<matplotlib.axes._subplots.AxesSubplot at 0x281dae63908>"
      ]
     },
     "execution_count": 53,
     "metadata": {},
     "output_type": "execute_result"
    },
    {
     "data": {
      "image/png": "[encoded data removed]",
      "text/plain": [
       "<Figure size 432x288 with 2 Axes>"
      ]
     },
     "metadata": {
      "needs_background": "light"
     },
     "output_type": "display_data"
    }
   ],
   "source": [
    "sns.heatmap(cm, annot=True, fmt=\"d\")"
   ]
  },
  {
   "cell_type": "code",
   "execution_count": 54,
   "metadata": {},
   "outputs": [
    {
     "data": {
      "text/plain": [
       "(26, 26)"
      ]
     },
     "execution_count": 54,
     "metadata": {},
     "output_type": "execute_result"
    }
   ],
   "source": [
    "cm.shape"
   ]
  },
  {
   "cell_type": "code",
   "execution_count": 61,
   "metadata": {},
   "outputs": [
    {
     "name": "stdout",
     "output_type": "stream",
     "text": [
      "Top errors:  [[143, 'l', 'i', 11, 8], [86, 'i', 'l', 8, 11], [86, 'g', 'q', 6, 16], [67, 'q', 'g', 16, 6], [25, 'f', 'p', 5, 15], [24, 'h', 'n', 7, 13], [23, 'y', 'v', 24, 21], [23, 'c', 'e', 2, 4], [22, 'e', 'c', 4, 2], [21, 'v', 'u', 21, 20], [21, 'q', 'a', 16, 0], [21, 'a', 'n', 0, 13], [19, 'm', 'n', 12, 13], [19, 'd', 'o', 3, 14], [18, 'x', 'y', 23, 24], [18, 'k', 'h', 10, 7], [18, 'f', 't', 5, 19], [16, 'v', 'y', 21, 24], [16, 't', 'f', 19, 5], [16, 'i', 'j', 8, 9], [16, 'h', 'k', 7, 10], [15, 'n', 'a', 13, 0], [15, 'i', 'z', 8, 25], [15, 'd', 'b', 3, 1], [14, 'r', 'a', 17, 0], [14, 'n', 'm', 13, 12], [14, 'g', 'a', 6, 0], [14, 'a', 'q', 0, 16], [13, 'u', 'v', 20, 21], [13, 's', 'j', 18, 9], [13, 's', 'g', 18, 6], [13, 'p', 'f', 15, 5], [13, 'n', 'w', 13, 22], [13, 'g', 's', 6, 18], [13, 'g', 'b', 6, 1], [12, 'x', 'k', 23, 10], [12, 'u', 'd', 20, 3], [12, 't', 'y', 19, 24], [12, 't', 'r', 19, 17], [12, 'r', 'p', 17, 15], [12, 'p', 'q', 15, 16], [12, 'k', 'x', 10, 23], [12, 'j', 's', 9, 18], [12, 'h', 'a', 7, 0]]\n",
      "l i\n",
      "i l\n",
      "g q\n",
      "q g\n",
      "f p\n",
      "h n\n",
      "y v\n",
      "c e\n",
      "e c\n",
      "v u\n"
     ]
    }
   ],
   "source": [
    "lttrs = ['a', 'b', 'c', 'd', 'e', 'f', 'g', 'h', 'i', 'j', 'k', 'l', 'm', 'n', 'o', 'p', 'q', 'r', 's', 't', 'u', 'v', 'w', 'x', 'y', 'z']\n",
    "top_errors = []\n",
    "for i in range(cm.shape[0]):\n",
    "    for j in range(cm.shape[1]):\n",
    "        if (cm[i, j] > 10 and i != j):\n",
    "            top_errors.append([cm[i, j], lttrs[i], lttrs[j], i, j])\n",
    "top_errors.sort(reverse=True) ###\n",
    "print('Top errors: ', top_errors)\n",
    "        \n",
    "\n",
    "num_pics = 10    \n",
    "for i in range(len(top_errors)):\n",
    "    if (num_pics > 0):\n",
    "        print(top_errors[i][1], top_errors[i][2] )\n",
    "#        print(images_all[top_errors[i][3]])\n",
    "#        plt.imshow(np.array(images_all[top_errors[i][3]]).reshape((28, 28)).T, cmap='gray')\n",
    "#        plt.show()\n",
    "        num_pics-=1"
   ]
  },
  {
   "cell_type": "markdown",
   "metadata": {},
   "source": [
    "Мы видим, что топ-ошибок достаточно логичный, соответствующий реальности."
   ]
  },
  {
   "cell_type": "markdown",
   "metadata": {},
   "source": [
    "'i' и 'l' похожи, так как многие пишут 'i' без точки иногда или с плохо видимой точкой"
   ]
  },
  {
   "cell_type": "code",
   "execution_count": 56,
   "metadata": {},
   "outputs": [
    {
     "name": "stdout",
     "output_type": "stream",
     "text": [
      "[370.0, 437.0, 454.0, 423.0, 442.0, 415.0, 330.0, 407.0, 353.0, 429.0, 418.0, 337.0, 458.0, 404.0, 470.0, 444.0, 366.0, 404.0, 450.0, 419.0, 433.0, 428.0, 456.0, 431.0, 415.0, 446.0]\n"
     ]
    }
   ],
   "source": [
    "correct = list(0. for i in range(len(classes)))\n",
    "total = list(0. for i in range(len(classes)))\n",
    "with torch.no_grad():\n",
    "    for data in testloader:\n",
    "        images, labels = data\n",
    "        outputs = net(images)\n",
    "        _, predicted = torch.max(outputs, 1)\n",
    "        c = (predicted == labels).squeeze()\n",
    "        for i in range(1000):\n",
    "            label = labels[i]\n",
    "            correct[label] += c[i].item()\n",
    "            total[label] += 1\n",
    "print(correct)"
   ]
  },
  {
   "cell_type": "code",
   "execution_count": 57,
   "metadata": {},
   "outputs": [
    {
     "name": "stdout",
     "output_type": "stream",
     "text": [
      "Precision of o = 94.0%\n",
      "Precision of m = 91.6%\n",
      "Precision of w = 91.2%\n",
      "Precision of c = 90.8%\n",
      "Precision of s = 90.0%\n",
      "Precision of z = 89.2%\n",
      "Precision of p = 88.8%\n",
      "Precision of e = 88.4%\n",
      "Precision of b = 87.4%\n",
      "Precision of u = 86.6%\n",
      "Precision of x = 86.2%\n",
      "Precision of j = 85.8%\n",
      "Precision of v = 85.6%\n",
      "Precision of d = 84.6%\n",
      "Precision of t = 83.8%\n",
      "Precision of k = 83.6%\n",
      "Precision of f = 83.0%\n",
      "Precision of y = 83.0%\n",
      "Precision of h = 81.4%\n",
      "Precision of n = 80.8%\n",
      "Precision of r = 80.8%\n",
      "Precision of a = 74.0%\n",
      "Precision of q = 73.2%\n",
      "Precision of i = 70.6%\n",
      "Precision of l = 67.4%\n",
      "Precision of g = 66.0%\n"
     ]
    }
   ],
   "source": [
    "list_with_accuracies = [(classes[i], correct[i] / total[i]) for i in range(len(classes))]\n",
    "list_with_accuracies.sort(key=lambda x: x[1], reverse=True)\n",
    "\n",
    "for i in range(len(classes)):\n",
    "    print('Precision of ', list_with_accuracies[i][0], ' = ', np.round(list_with_accuracies[i][1]*100, 1), '%', sep='')\n"
   ]
  },
  {
   "cell_type": "markdown",
   "metadata": {},
   "source": [
    "И вновь достаточно логично, что хуже всего определяют такие буквы, как : 'l', 'i'."
   ]
  },
  {
   "cell_type": "code",
   "execution_count": 65,
   "metadata": {},
   "outputs": [
    {
     "name": "stdout",
     "output_type": "stream",
     "text": [
      "(28, 28, 3)\n"
     ]
    }
   ],
   "source": [
    "pic = plt.imread('images/train/i/i_00220.jpg')\n",
    "print(pic.shape)"
   ]
  },
  {
   "cell_type": "code",
   "execution_count": 66,
   "metadata": {},
   "outputs": [],
   "source": [
    "pic = np.transpose(pic, axes=(1, 0, 2))"
   ]
  },
  {
   "cell_type": "code",
   "execution_count": 67,
   "metadata": {},
   "outputs": [
    {
     "data": {
      "image/png": "[encoded data removed]",
      "text/plain": [
       "<Figure size 144x144 with 1 Axes>"
      ]
     },
     "metadata": {
      "needs_background": "light"
     },
     "output_type": "display_data"
    }
   ],
   "source": [
    "plt.figure(figsize=(2,2))\n",
    "plt.imshow(pic)\n",
    "plt.show()"
   ]
  },
  {
   "cell_type": "markdown",
   "metadata": {},
   "source": [
    "Пример плохо детектированной 'i'"
   ]
  },
  {
   "cell_type": "code",
   "execution_count": 220,
   "metadata": {},
   "outputs": [
    {
     "data": {
      "text/plain": [
       "18"
      ]
     },
     "execution_count": 220,
     "metadata": {},
     "output_type": "execute_result"
    }
   ],
   "source": [
    "j = 0\n",
    "surname_errors = []\n",
    "for i in range(len(lttrs)):\n",
    "    if lttrs[i] == 's':\n",
    "        j = i\n",
    "j"
   ]
  },
  {
   "cell_type": "code",
   "execution_count": 221,
   "metadata": {},
   "outputs": [
    {
     "name": "stdout",
     "output_type": "stream",
     "text": [
      "Top errors:  [[9, 'g', 's', 6, 18], [6, 'j', 's', 9, 18]]\n",
      "g s\n",
      "j s\n",
      "Precision of the surname:  97.0\n"
     ]
    }
   ],
   "source": [
    "surname_err_sum = 0\n",
    "for i in range(cm.shape[1]):\n",
    "    if (cm[i, j] > 5 and i != j):\n",
    "        surname_err_sum += cm[i, j]\n",
    "        surname_errors.append([cm[i, j], lttrs[i], lttrs[j], i, j])\n",
    "surname_errors.sort(reverse=True) ###\n",
    "print('Top errors: ',surname_errors)\n",
    "\n",
    " \n",
    "\n",
    "num_pics = 10    \n",
    "for i in range(len(surname_errors)):\n",
    "    if (num_pics > 0):\n",
    "        print(surname_errors[i][1], surname_errors[i][2] )\n",
    "#         print(images_all[top_errors[i][3]])\n",
    "#         plt.imshow(np.array(images_all[top_errors[i][3]]).reshape((28, 28)).T, cmap='gray')\n",
    "#         plt.show()\n",
    "        num_pics-=1\n",
    "    \n",
    "print ('Precision of the surname: ', 100 * (1 - surname_err_sum/total[j]))"
   ]
  },
  {
   "cell_type": "markdown",
   "metadata": {},
   "source": [
    "Первая буква моей фамилии редко путается, чаще всего это происходит с буквами 'g', 'j', что также соответствует реальности."
   ]
  },
  {
   "cell_type": "markdown",
   "metadata": {},
   "source": [
    "### Задание 2  \n",
    "  \n",
    "*Вес в общей оценке - 0.35*  \n",
    "  \n",
    "1. Постройте и обучите модели нейронной сети с 1-м, 2-мя и 3-мя сверточными слоями.  \n",
    "Попробуйте различные значения параметров сверток и числа фильтров на каждом слое. Оцените качество моделей с различными параметрами, проведите сравнительный анализ.  \n",
    "2. Для наилучшей конфигурации из предыдущего пункта, сравните, как меняется качество модели при увеличении размера батча при использовании BatchNorm и GroupNorm.    "
   ]
  },
  {
   "cell_type": "markdown",
   "metadata": {},
   "source": [
    "#### First models 1, 2, 3"
   ]
  },
  {
   "cell_type": "code",
   "execution_count": 10,
   "metadata": {},
   "outputs": [],
   "source": [
    "class ConvNet3(nn.Module):\n",
    "    def __init__(self,in_dim,hid,out_dim):\n",
    "        super(ConvNet3, self).__init__()\n",
    "        self.layer1 = nn.Sequential( \n",
    "            nn.Conv2d(3, 32, kernel_size=5, stride=1, padding=2),\n",
    "            nn.ReLU(), \n",
    "            nn.MaxPool2d(kernel_size=2, stride=2)\n",
    "        )\n",
    "        self.layer2 = nn.Sequential( nn.Conv2d(32, 64, kernel_size=5, stride=1, padding=2),\n",
    "        nn.ReLU(), nn.MaxPool2d(kernel_size=2, stride=2))\n",
    "        self.layer3 = nn.Sequential( nn.Conv2d(64, 128, kernel_size=5, stride=1, padding=2),\n",
    "        nn.ReLU(), nn.MaxPool2d(kernel_size=2, stride=2))\n",
    "        self.drop_out = nn.Dropout()\n",
    "        self.fc1 = nn.Linear(in_dim, hid)\n",
    "        self.fc2 = nn.Linear(hid, out_dim)\n",
    "\n",
    "    def forward(self, x):\n",
    "        out = self.layer1(x)\n",
    "        out = self.layer2(out)\n",
    "        out = self.layer3(out)\n",
    "        out = out.reshape(out.size(0), -1)\n",
    "        out = self.drop_out(out)\n",
    "        out = self.fc1(out)\n",
    "        out = self.fc2(out)\n",
    "        return out\n",
    "    \n",
    "in_d = 1152\n",
    "hidn = 500\n",
    "out_d = 26    \n",
    "ConvNet3 = ConvNet3(in_d, hidn, out_d)\n",
    "\n",
    "class ConvNet2(nn.Module):\n",
    "    def __init__(self,in_dim,hid,out_dim):\n",
    "        super(ConvNet2, self).__init__()\n",
    "        self.layer1 = nn.Sequential( \n",
    "            nn.Conv2d(3, 32, kernel_size=5, stride=1, padding=2),\n",
    "            nn.ReLU(), \n",
    "            nn.BatchNorm2d(32),\n",
    "            nn.MaxPool2d(kernel_size=2, stride=2)\n",
    "        )\n",
    "        self.layer2 = nn.Sequential( nn.Conv2d(32, 64, kernel_size=5, stride=1, padding=2),\n",
    "        nn.ReLU(), nn.MaxPool2d(kernel_size=2, stride=2))\n",
    "        self.drop_out = nn.Dropout()\n",
    "        self.fc1 = nn.Linear(in_dim, hid)\n",
    "        self.fc2 = nn.Linear(hid, out_dim)\n",
    "        \n",
    "    def forward(self, x):\n",
    "        out = self.layer1(x)\n",
    "        out = self.layer2(out)\n",
    "        out = out.reshape(out.size(0), -1)\n",
    "        out = self.drop_out(out)\n",
    "        out = self.fc1(out)\n",
    "        out = self.fc2(out)\n",
    "        return out\n",
    "    \n",
    "in_d = 3136\n",
    "hidn = 500\n",
    "out_d = 26\n",
    "ConvNet2 = ConvNet2(in_d, hidn, out_d)\n",
    "        \n",
    "class ConvNet1(nn.Module):\n",
    "    def __init__(self,in_dim,hid,out_dim):\n",
    "        super(ConvNet1, self).__init__()\n",
    "        self.layer1 = nn.Sequential( \n",
    "            nn.Conv2d(3, 32, kernel_size=5, stride=1, padding=2),\n",
    "            nn.ReLU(), \n",
    "            nn.BatchNorm2d(32), \n",
    "            nn.MaxPool2d(kernel_size=2, stride=2)\n",
    "        )\n",
    "        self.drop_out = nn.Dropout()\n",
    "        self.fc1 = nn.Linear(in_dim, hid)\n",
    "        self.fc2 = nn.Linear(hid, out_dim)\n",
    "        \n",
    "    def forward(self, x):\n",
    "        out = self.layer1(x)\n",
    "        out = out.reshape(out.size(0), -1)\n",
    "        out = self.drop_out(out)\n",
    "        out = self.fc1(out)\n",
    "        out = self.fc2(out)\n",
    "        return out\n",
    "    \n",
    "in_d = 6272\n",
    "hidn = 500\n",
    "out_d = 26       \n",
    "ConvNet1 = ConvNet1(in_d, hidn, out_d)"
   ]
  },
  {
   "cell_type": "markdown",
   "metadata": {},
   "source": [
    "#### Second models 1_0, 2_0, 3_0"
   ]
  },
  {
   "cell_type": "code",
   "execution_count": 11,
   "metadata": {},
   "outputs": [],
   "source": [
    "# лучшее число нейронов оказалось:\n",
    "class ConvNet3_0(nn.Module):\n",
    "    def __init__(self):\n",
    "        super(ConvNet3_0, self).__init__()\n",
    "        self.layer1 = nn.Sequential( \n",
    "            nn.Conv2d(3, 32, kernel_size=5, stride=1, padding=2),\n",
    "            nn.ReLU(), \n",
    "            nn.MaxPool2d(kernel_size=2, stride=2)\n",
    "        )\n",
    "        self.layer2 = nn.Sequential( nn.Conv2d(32, 64, kernel_size=5, stride=1, padding=2),\n",
    "        nn.ReLU(), nn.MaxPool2d(kernel_size=2, stride=2))\n",
    "        self.layer3 = nn.Sequential( nn.Conv2d(64, 128, kernel_size=5, stride=1, padding=2),\n",
    "        nn.ReLU(), nn.MaxPool2d(kernel_size=2, stride=2))\n",
    "        self.drop_out = nn.Dropout()\n",
    "        self.fc1 = nn.Linear(1152, 500)\n",
    "        self.fc2 = nn.Linear(500, 26)\n",
    "\n",
    "    def forward(self, x):\n",
    "        out = self.layer1(x)\n",
    "        out = self.layer2(out)\n",
    "        out = self.layer3(out)\n",
    "        out = out.reshape(out.size(0), -1)\n",
    "        out = self.drop_out(out)\n",
    "        out = self.fc1(out)\n",
    "        out = self.fc2(out)\n",
    "        return out\n",
    "    \n",
    "ConvNet3_0 = ConvNet3_0()\n",
    "\n",
    "class ConvNet2_0(nn.Module):\n",
    "    def __init__(self):\n",
    "        super(ConvNet2_0, self).__init__()\n",
    "        self.layer1 = nn.Sequential( \n",
    "            nn.Conv2d(3, 32, kernel_size=5, stride=1, padding=2),\n",
    "            nn.ReLU(),\n",
    "            nn.MaxPool2d(kernel_size=2, stride=2)\n",
    "        )\n",
    "        self.layer2 = nn.Sequential( nn.Conv2d(32, 64, kernel_size=5, stride=1, padding=2),\n",
    "        nn.ReLU(), nn.MaxPool2d(kernel_size=2, stride=2))\n",
    "        self.drop_out = nn.Dropout()\n",
    "        self.fc1 = nn.Linear(3136, 500)\n",
    "        self.fc2 = nn.Linear(500, 26)\n",
    "        \n",
    "    def forward(self, x):\n",
    "        out = self.layer1(x)\n",
    "        out = self.layer2(out)\n",
    "        out = out.reshape(out.size(0), -1)\n",
    "        out = self.drop_out(out)\n",
    "        out = self.fc1(out)\n",
    "        out = self.fc2(out)\n",
    "        return out\n",
    "\n",
    "ConvNet2_0 = ConvNet2_0()\n",
    "        \n",
    "class ConvNet1_0(nn.Module):\n",
    "    def __init__(self):\n",
    "        super(ConvNet1_0, self).__init__()\n",
    "        self.layer1 = nn.Sequential( \n",
    "            nn.Conv2d(3, 32, kernel_size=5, stride=1, padding=2),\n",
    "            nn.ReLU(), \n",
    "            nn.MaxPool2d(kernel_size=2, stride=2)\n",
    "        )\n",
    "        self.drop_out = nn.Dropout()\n",
    "        self.fc1 = nn.Linear(6272, 500)\n",
    "        self.fc2 = nn.Linear(500, 26)\n",
    "        \n",
    "    def forward(self, x):\n",
    "        out = self.layer1(x)\n",
    "        out = out.reshape(out.size(0), -1)\n",
    "        out = self.drop_out(out)\n",
    "        out = self.fc1(out)\n",
    "        out = self.fc2(out)\n",
    "        return out\n",
    "        \n",
    "ConvNet1_0 = ConvNet1_0()"
   ]
  },
  {
   "cell_type": "markdown",
   "metadata": {},
   "source": [
    "#### ConvNet2 with BatchNorm"
   ]
  },
  {
   "cell_type": "code",
   "execution_count": 12,
   "metadata": {},
   "outputs": [],
   "source": [
    "#500x3136 32x120\n",
    "# После увидим, что модель с 2мя сверточными слоями является лучшей конфигурацией, поэтому определим использование ее с BatchNorm и GroupNorm \n",
    "class ConvNet2_BatchN(nn.Module):\n",
    "    def __init__(self,in_dim,hid,out_dim):\n",
    "        super(ConvNet2_BatchN, self).__init__()\n",
    "        self.layer1 = nn.Sequential( \n",
    "            nn.Conv2d(3, 32, kernel_size=5, stride=1, padding=2),\n",
    "            nn.ReLU(), \n",
    "            nn.BatchNorm2d(32),\n",
    "            nn.MaxPool2d(kernel_size=2, stride=2),\n",
    "            nn.Conv2d(32, 64, kernel_size=5, stride=1, padding=2),\n",
    "            nn.ReLU(), \n",
    "            nn.MaxPool2d(kernel_size=2, stride=2),\n",
    "            nn.Flatten(start_dim=1), \n",
    "            nn.Linear(in_features=3136, out_features=500), \n",
    "            nn.ReLU(),\n",
    "            nn.BatchNorm1d(500),\n",
    "            nn.Linear(in_features=500, out_features=200),\n",
    "            nn.ReLU(),\n",
    "        )\n",
    "\n",
    "        self.drop_out = nn.Dropout()\n",
    "        self.fc1 = nn.Linear(in_dim, hid)\n",
    "        self.fc2 = nn.Linear(hid, out_dim)\n",
    "        \n",
    "    def forward(self, x):\n",
    "        out = self.layer1(x)\n",
    "        out = out.reshape(out.size(0), -1)\n",
    "        out = self.drop_out(out)\n",
    "        out = self.fc1(out)\n",
    "        out = self.fc2(out)\n",
    "        return out\n",
    "    \n",
    "in_d = 200\n",
    "hidn = 100\n",
    "out_d = 26\n",
    "ConvNet2_BatchN = ConvNet2_BatchN(in_d, hidn, out_d)"
   ]
  },
  {
   "cell_type": "markdown",
   "metadata": {},
   "source": [
    "#### ConvNet2 with GroupNorm"
   ]
  },
  {
   "cell_type": "code",
   "execution_count": 13,
   "metadata": {},
   "outputs": [],
   "source": [
    "#500x3136 32x120\n",
    "#RuntimeError: Expected number of channels in input \n",
    "#to be divisible by num_groups, but got input of shape [500, 3, 28, 28] and num_groups=32\n",
    "\n",
    "#RuntimeError: Expected number of channels in input to be divisible by num_groups, but got input of\n",
    "#shape [500, 32, 28, 28] and num_groups=3\n",
    "\n",
    "\n",
    "class ConvNet2_GroupN(nn.Module):\n",
    "    def __init__(self,in_dim,hid,out_dim):\n",
    "        super(ConvNet2_GroupN, self).__init__()\n",
    "        self.layer1 = nn.Sequential(\n",
    "            nn.GroupNorm(3, 3),\n",
    "            nn.Conv2d(3, 32, kernel_size=5, stride=1, padding=2),\n",
    "            nn.GroupNorm(32, 32),\n",
    "            nn.ReLU(), \n",
    "            nn.MaxPool2d(kernel_size=2, stride=2),\n",
    "            nn.Conv2d(32, 64, kernel_size=5, stride=1, padding=2),\n",
    "            nn.ReLU(), \n",
    "            nn.MaxPool2d(kernel_size=2, stride=2),\n",
    "            nn.Flatten(start_dim=1), \n",
    "            nn.Linear(in_features=3136, out_features=500), \n",
    "            nn.ReLU(),\n",
    "            nn.BatchNorm1d(500),\n",
    "            nn.Linear(in_features=500, out_features=200),\n",
    "            nn.ReLU(),\n",
    "        )\n",
    "\n",
    "        self.drop_out = nn.Dropout()\n",
    "        self.fc1 = nn.Linear(in_dim, hid)\n",
    "        self.fc2 = nn.Linear(hid, out_dim)\n",
    "        \n",
    "    def forward(self, x):\n",
    "        out = self.layer1(x)\n",
    "        out = out.reshape(out.size(0), -1)\n",
    "        out = self.drop_out(out)\n",
    "        out = self.fc1(out)\n",
    "        out = self.fc2(out)\n",
    "        return out\n",
    "    \n",
    "in_d = 200\n",
    "hidn = 100\n",
    "out_d = 26\n",
    "ConvNet2_GroupN = ConvNet2_GroupN(in_d, hidn, out_d)"
   ]
  },
  {
   "cell_type": "markdown",
   "metadata": {},
   "source": [
    "##### Запускаем наши модели, ищем наилучшую конфигурацию"
   ]
  },
  {
   "cell_type": "markdown",
   "metadata": {},
   "source": [
    "#### ConvNet1"
   ]
  },
  {
   "cell_type": "code",
   "execution_count": 253,
   "metadata": {},
   "outputs": [],
   "source": [
    "criterion = nn.CrossEntropyLoss()\n",
    "optimizer = torch.optim.Adam(ConvNet1.parameters(), lr=0.0001, betas=(0.9, 0.99))"
   ]
  },
  {
   "cell_type": "code",
   "execution_count": 254,
   "metadata": {},
   "outputs": [],
   "source": [
    "trainloader, testloader, classes, dataset_sizes=get_dataset('images',data_transforms, 1000)\n",
    "total_step = len(trainloader)\n",
    "loss_list = []\n",
    "acc_list = []\n",
    "num_epochs = 2\n",
    "for epoch in range(num_epochs):\n",
    "    for i, (images, labels) in enumerate(trainloader):\n",
    "        outputs = ConvNet1(images)\n",
    "        loss = criterion(outputs, labels)\n",
    "        loss_list.append(loss.item())\n",
    "\n",
    "        optimizer.zero_grad()\n",
    "        loss.backward()\n",
    "        optimizer.step()\n",
    "\n",
    "        # Точность\n",
    "        total = labels.size(0)\n",
    "        _, predicted = torch.max(outputs.data, 1)\n",
    "        correct = (predicted == labels).sum().item()\n",
    "        acc_list.append(correct / total)\n",
    "\n",
    "        if (i + 1) % 100 == 0:\n",
    "            print('Epoch [{}/{}], Step [{}/{}], Loss: {:.4f}, Accuracy: {:.2f}%'\n",
    "                  .format(epoch + 1, num_epochs, i + 1, total_step, loss.item(),\n",
    "                          (correct / total) * 100))"
   ]
  },
  {
   "cell_type": "markdown",
   "metadata": {},
   "source": [
    "В дальнейшем везде будем использовать learning rate = 0.0005"
   ]
  },
  {
   "cell_type": "code",
   "execution_count": 226,
   "metadata": {},
   "outputs": [],
   "source": [
    "criterion = nn.CrossEntropyLoss()\n",
    "optimizer = torch.optim.Adam(ConvNet1.parameters(), lr=0.0005, betas=(0.9, 0.99))"
   ]
  },
  {
   "cell_type": "code",
   "execution_count": 227,
   "metadata": {},
   "outputs": [
    {
     "name": "stdout",
     "output_type": "stream",
     "text": [
      "Epoch [1/2], Step [100/130], Loss: 0.6442, Accuracy: 82.60%\n",
      "Epoch [2/2], Step [100/130], Loss: 0.4513, Accuracy: 86.40%\n"
     ]
    }
   ],
   "source": [
    "trainloader, testloader, classes, dataset_sizes=get_dataset('images',data_transforms, 500)\n",
    "total_step = len(trainloader)\n",
    "loss_list = []\n",
    "acc_list = []\n",
    "num_epochs = 2\n",
    "for epoch in range(num_epochs):\n",
    "    for i, (images, labels) in enumerate(trainloader):\n",
    "        outputs = ConvNet1(images)\n",
    "        loss = criterion(outputs, labels)\n",
    "        loss_list.append(loss.item())\n",
    "\n",
    "        optimizer.zero_grad()\n",
    "        loss.backward()\n",
    "        optimizer.step()\n",
    "\n",
    "        # Точность\n",
    "        total = labels.size(0)\n",
    "        _, predicted = torch.max(outputs.data, 1)\n",
    "        correct = (predicted == labels).sum().item()\n",
    "        acc_list.append(correct / total)\n",
    "\n",
    "        if (i + 1) % 100 == 0:\n",
    "            print('Epoch [{}/{}], Step [{}/{}], Loss: {:.4f}, Accuracy: {:.2f}%'\n",
    "                  .format(epoch + 1, num_epochs, i + 1, total_step, loss.item(),\n",
    "                          (correct / total) * 100))"
   ]
  },
  {
   "cell_type": "markdown",
   "metadata": {},
   "source": [
    "Accuracy достаточно хорошая"
   ]
  },
  {
   "cell_type": "markdown",
   "metadata": {},
   "source": [
    "#### ConvNet2"
   ]
  },
  {
   "cell_type": "code",
   "execution_count": 228,
   "metadata": {},
   "outputs": [],
   "source": [
    "criterion = nn.CrossEntropyLoss()   \n",
    "optimizer = torch.optim.Adam(ConvNet2.parameters(), lr=0.0005, betas=(0.9, 0.99))"
   ]
  },
  {
   "cell_type": "code",
   "execution_count": 229,
   "metadata": {},
   "outputs": [
    {
     "name": "stdout",
     "output_type": "stream",
     "text": [
      "Epoch [1/2], Step [100/130], Loss: 0.4551, Accuracy: 84.40%\n",
      "Epoch [2/2], Step [100/130], Loss: 0.2977, Accuracy: 90.00%\n"
     ]
    }
   ],
   "source": [
    "trainloader, testloader, classes, dataset_sizes=get_dataset('images',data_transforms, 500)\n",
    "total_step = len(trainloader)\n",
    "loss_list = []\n",
    "acc_list = []\n",
    "num_epochs = 2\n",
    "for epoch in range(num_epochs):\n",
    "    for i, (images, labels) in enumerate(trainloader):\n",
    "        outputs = ConvNet2(images)\n",
    "        loss = criterion(outputs, labels)\n",
    "        loss_list.append(loss.item())\n",
    "\n",
    "        optimizer.zero_grad()\n",
    "        loss.backward()\n",
    "        optimizer.step()\n",
    "\n",
    "        # Точность\n",
    "        total = labels.size(0)\n",
    "        _, predicted = torch.max(outputs.data, 1)\n",
    "        correct = (predicted == labels).sum().item()\n",
    "        acc_list.append(correct / total)\n",
    "\n",
    "        if (i + 1) % 100 == 0:\n",
    "            print('Epoch [{}/{}], Step [{}/{}], Loss: {:.4f}, Accuracy: {:.2f}%'\n",
    "                  .format(epoch + 1, num_epochs, i + 1, total_step, loss.item(),\n",
    "                          (correct / total) * 100))"
   ]
  },
  {
   "cell_type": "markdown",
   "metadata": {},
   "source": [
    "##### Довольно хороший Accuracy для модели, попроубем для нее применить BatchNorm и GroupNorm увеличивать число batch"
   ]
  },
  {
   "cell_type": "markdown",
   "metadata": {},
   "source": [
    "#### ConvNet2_BatchN"
   ]
  },
  {
   "cell_type": "code",
   "execution_count": 230,
   "metadata": {},
   "outputs": [],
   "source": [
    "criterion = nn.CrossEntropyLoss() \n",
    "optimizer = torch.optim.Adam(ConvNet2_BatchN.parameters(), lr=0.0005, betas=(0.9, 0.99))"
   ]
  },
  {
   "cell_type": "code",
   "execution_count": 231,
   "metadata": {},
   "outputs": [
    {
     "name": "stdout",
     "output_type": "stream",
     "text": [
      "Epoch [1/2], Step [100/130], Loss: 0.3639, Accuracy: 87.60%\n",
      "Epoch [2/2], Step [100/130], Loss: 0.2242, Accuracy: 92.40%\n"
     ]
    }
   ],
   "source": [
    "trainloader, testloader, classes, dataset_sizes=get_dataset('images',data_transforms, 500)\n",
    "total_step = len(trainloader)\n",
    "loss_list = []\n",
    "acc_list = []\n",
    "num_epochs = 2\n",
    "for epoch in range(num_epochs):\n",
    "    for i, (images, labels) in enumerate(trainloader):\n",
    "        outputs = ConvNet2_BatchN(images)\n",
    "        loss = criterion(outputs, labels)\n",
    "        loss_list.append(loss.item())\n",
    "\n",
    "        optimizer.zero_grad()\n",
    "        loss.backward()\n",
    "        optimizer.step()\n",
    "\n",
    "        # Точность\n",
    "        total = labels.size(0)\n",
    "        _, predicted = torch.max(outputs.data, 1)\n",
    "        correct = (predicted == labels).sum().item()\n",
    "        acc_list.append(correct / total)\n",
    "\n",
    "        if (i + 1) % 100 == 0:\n",
    "            print('Epoch [{}/{}], Step [{}/{}], Loss: {:.4f}, Accuracy: {:.2f}%'\n",
    "                  .format(epoch + 1, num_epochs, i + 1, total_step, loss.item(),\n",
    "                          (correct / total) * 100))"
   ]
  },
  {
   "cell_type": "markdown",
   "metadata": {},
   "source": [
    "#### Попробуем увеличивать количество batch  [200, 300, 500, 1000] с BatchN и GroupN"
   ]
  },
  {
   "cell_type": "code",
   "execution_count": 245,
   "metadata": {},
   "outputs": [
    {
     "name": "stdout",
     "output_type": "stream",
     "text": [
      "Batch size:  200\n",
      "Epoch [1/2], Step [100/325], Loss: 0.1167, Accuracy: 95.50%\n",
      "Epoch [1/2], Step [200/325], Loss: 0.1272, Accuracy: 95.00%\n",
      "Epoch [1/2], Step [300/325], Loss: 0.0917, Accuracy: 96.00%\n",
      "Epoch [2/2], Step [100/325], Loss: 0.1077, Accuracy: 97.00%\n",
      "Epoch [2/2], Step [200/325], Loss: 0.0692, Accuracy: 97.00%\n",
      "Epoch [2/2], Step [300/325], Loss: 0.0580, Accuracy: 97.50%\n",
      "Batch size:  300\n",
      "Epoch [1/2], Step [100/217], Loss: 0.0703, Accuracy: 96.67%\n",
      "Epoch [1/2], Step [200/217], Loss: 0.0826, Accuracy: 97.00%\n",
      "Epoch [2/2], Step [100/217], Loss: 0.0727, Accuracy: 96.67%\n",
      "Epoch [2/2], Step [200/217], Loss: 0.0555, Accuracy: 98.33%\n",
      "Batch size:  500\n",
      "Epoch [1/2], Step [100/130], Loss: 0.0753, Accuracy: 97.20%\n",
      "Epoch [2/2], Step [100/130], Loss: 0.0549, Accuracy: 97.80%\n",
      "Batch size:  1000\n"
     ]
    }
   ],
   "source": [
    "acc = []\n",
    "batch_num = [200, 300, 500, 1000]\n",
    "  \n",
    "for batch in batch_num:\n",
    "    print('Batch size: ', batch)\n",
    "    trainloader, testloader, classes, dataset_sizes=get_dataset('images',data_transforms, batch)\n",
    "    total_step = len(trainloader)\n",
    "    loss_list = []\n",
    "    acc_list = []\n",
    "    num_epochs = 2\n",
    "    for epoch in range(num_epochs):\n",
    "        for i, (images, labels) in enumerate(trainloader):\n",
    "            outputs = ConvNet2_BatchN(images)\n",
    "            loss = criterion(outputs, labels)\n",
    "            loss_list.append(loss.item())\n",
    "    \n",
    "            optimizer.zero_grad()\n",
    "            loss.backward()\n",
    "            optimizer.step()\n",
    "    \n",
    "            # Точнсть\n",
    "            total = labels.size(0)\n",
    "            _, predicted = torch.max(outputs.data, 1)\n",
    "            correct = (predicted == labels).sum().item()\n",
    "            acc_list.append(correct / total)\n",
    "    \n",
    "            if (i + 1) % 100 == 0:\n",
    "                print('Epoch [{}/{}], Step [{}/{}], Loss: {:.4f}, Accuracy: {:.2f}%'\n",
    "                      .format(epoch + 1, num_epochs, i + 1, total_step, loss.item(),\n",
    "                              (correct / total) * 100))"
   ]
  },
  {
   "cell_type": "markdown",
   "metadata": {},
   "source": [
    "#### ConvNet2_GroupN"
   ]
  },
  {
   "cell_type": "code",
   "execution_count": 233,
   "metadata": {},
   "outputs": [],
   "source": [
    "criterion = nn.CrossEntropyLoss()  \n",
    "optimizer = torch.optim.Adam(ConvNet2_GroupN.parameters(), lr=0.0005, betas=(0.9, 0.99))"
   ]
  },
  {
   "cell_type": "code",
   "execution_count": 234,
   "metadata": {},
   "outputs": [],
   "source": [
    "trainloader, testloader, classes, dataset_sizes=get_dataset('images',data_transforms, 500)\n",
    "total_step = len(trainloader)\n",
    "loss_list = []\n",
    "acc_list = []\n",
    "num_epochs = 2 \n",
    "for epoch in range(num_epochs):\n",
    "    for i, (images, labels) in enumerate(trainloader):\n",
    "        outputs = ConvNet2_GroupN(images)\n",
    "        loss = criterion(outputs, labels)\n",
    "        loss_list.append(loss.item())\n",
    "\n",
    "        optimizer.zero_grad()\n",
    "        loss.backward()\n",
    "        optimizer.step()\n",
    "\n",
    "        # Точность\n",
    "        total = labels.size(0)\n",
    "        _, predicted = torch.max(outputs.data, 1)\n",
    "        correct = (predicted == labels).sum().item()\n",
    "        acc_list.append(correct / total)\n",
    "\n",
    "        if (i + 1) % 300 == 0:\n",
    "            print('Epoch [{}/{}], Step [{}/{}], Loss: {:.4f}, Accuracy: {:.2f}%'\n",
    "                  .format(epoch + 1, num_epochs, i + 1, total_step, loss.item(),\n",
    "                          (correct / total) * 100))"
   ]
  },
  {
   "cell_type": "markdown",
   "metadata": {},
   "source": [
    "####  Попробуем изменить количество batch"
   ]
  },
  {
   "cell_type": "code",
   "execution_count": 235,
   "metadata": {},
   "outputs": [
    {
     "name": "stdout",
     "output_type": "stream",
     "text": [
      "Batch size:  200\n",
      "Epoch [1/2], Step [100/325], Loss: 0.2428, Accuracy: 91.00%\n",
      "Epoch [1/2], Step [200/325], Loss: 0.2599, Accuracy: 93.50%\n",
      "Epoch [1/2], Step [300/325], Loss: 0.1940, Accuracy: 95.50%\n",
      "Epoch [2/2], Step [100/325], Loss: 0.1294, Accuracy: 95.50%\n",
      "Epoch [2/2], Step [200/325], Loss: 0.1752, Accuracy: 91.50%\n",
      "Epoch [2/2], Step [300/325], Loss: 0.1937, Accuracy: 92.50%\n",
      "Batch size:  300\n",
      "Epoch [1/2], Step [100/217], Loss: 0.1264, Accuracy: 96.00%\n",
      "Epoch [1/2], Step [200/217], Loss: 0.1597, Accuracy: 93.33%\n",
      "Epoch [2/2], Step [100/217], Loss: 0.1062, Accuracy: 97.33%\n",
      "Epoch [2/2], Step [200/217], Loss: 0.1750, Accuracy: 96.33%\n",
      "Batch size:  500\n",
      "Epoch [1/2], Step [100/130], Loss: 0.1072, Accuracy: 95.60%\n",
      "Epoch [2/2], Step [100/130], Loss: 0.0954, Accuracy: 96.20%\n",
      "Batch size:  1000\n"
     ]
    }
   ],
   "source": [
    "acc = []\n",
    "batch_num = [200, 300, 500, 1000]\n",
    "  \n",
    "for batch in batch_num:\n",
    "    print('Batch size: ', batch)\n",
    "    trainloader, testloader, classes, dataset_sizes=get_dataset('images',data_transforms, batch)\n",
    "    total_step = len(trainloader)\n",
    "    loss_list = []\n",
    "    acc_list = []\n",
    "    num_epochs = 2\n",
    "    for epoch in range(num_epochs):\n",
    "        for i, (images, labels) in enumerate(trainloader):\n",
    "            outputs = ConvNet2_GroupN(images)\n",
    "            loss = criterion(outputs, labels)\n",
    "            loss_list.append(loss.item())\n",
    "    \n",
    "            optimizer.zero_grad()\n",
    "            loss.backward()\n",
    "            optimizer.step()\n",
    "    \n",
    "            # Точность\n",
    "            total = labels.size(0)\n",
    "            _, predicted = torch.max(outputs.data, 1)\n",
    "            correct = (predicted == labels).sum().item()\n",
    "            acc_list.append(correct / total)\n",
    "    \n",
    "            if (i + 1) % 100 == 0:\n",
    "                print('Epoch [{}/{}], Step [{}/{}], Loss: {:.4f}, Accuracy: {:.2f}%'\n",
    "                      .format(epoch + 1, num_epochs, i + 1, total_step, loss.item(),\n",
    "                              (correct / total) * 100))\n",
    "    "
   ]
  },
  {
   "cell_type": "markdown",
   "metadata": {},
   "source": [
    "Видим, что модель с использованием BatchNorm, с количеством batch = 1000 имеет наивысшую Accuracy."
   ]
  },
  {
   "cell_type": "markdown",
   "metadata": {},
   "source": [
    "#### ConvNet3"
   ]
  },
  {
   "cell_type": "code",
   "execution_count": 236,
   "metadata": {},
   "outputs": [],
   "source": [
    "criterion = nn.CrossEntropyLoss() \n",
    "optimizer = torch.optim.Adam(ConvNet3.parameters(), lr=0.0005, betas=(0.9, 0.99))"
   ]
  },
  {
   "cell_type": "code",
   "execution_count": 237,
   "metadata": {},
   "outputs": [
    {
     "name": "stdout",
     "output_type": "stream",
     "text": [
      "Epoch [1/2], Step [100/130], Loss: 0.4759, Accuracy: 82.00%\n",
      "Epoch [2/2], Step [100/130], Loss: 0.4359, Accuracy: 87.80%\n"
     ]
    }
   ],
   "source": [
    "trainloader, testloader, classes, dataset_sizes=get_dataset('images',data_transforms, 500)\n",
    "total_step = len(trainloader)\n",
    "loss_list = []\n",
    "acc_list = []\n",
    "num_epochs = 2\n",
    "for epoch in range(num_epochs):\n",
    "    for i, (images, labels) in enumerate(trainloader):\n",
    "        outputs = ConvNet3(images)\n",
    "        loss = criterion(outputs, labels)\n",
    "        loss_list.append(loss.item())\n",
    "\n",
    "        optimizer.zero_grad()\n",
    "        loss.backward()\n",
    "        optimizer.step()\n",
    "\n",
    "        # Точность\n",
    "        total = labels.size(0)\n",
    "        _, predicted = torch.max(outputs.data, 1)\n",
    "        correct = (predicted == labels).sum().item()\n",
    "        acc_list.append(correct / total)\n",
    "\n",
    "        if (i + 1) % 100 == 0:\n",
    "            print('Epoch [{}/{}], Step [{}/{}], Loss: {:.4f}, Accuracy: {:.2f}%'\n",
    "                  .format(epoch + 1, num_epochs, i + 1, total_step, loss.item(),\n",
    "                          (correct / total) * 100))"
   ]
  },
  {
   "cell_type": "markdown",
   "metadata": {},
   "source": [
    "### Задание 3    \n",
    "  \n",
    "Обучите модель с точностью (accuracy) на тестовых данных:  \n",
    "- `>= 0.85`    +1 балл\n",
    "- `>= 0.95`    +2 балла\n",
    "- `>= 0.99`    +3 балла  "
   ]
  },
  {
   "cell_type": "markdown",
   "metadata": {},
   "source": [
    "###### >=85"
   ]
  },
  {
   "cell_type": "code",
   "execution_count": 16,
   "metadata": {},
   "outputs": [],
   "source": [
    "class Net(nn.Module):\n",
    "    def __init__(self):\n",
    "        super(Net, self).__init__()\n",
    "        self.cnn_layers = nn.Sequential(\n",
    "        nn.Flatten(),\n",
    "        nn.BatchNorm1d(2352),\n",
    "        nn.Linear(28*28*3, 300),\n",
    "        nn.ReLU(),\n",
    "        nn.Linear(300, 200),\n",
    "        nn.ReLU(),\n",
    "        nn.Linear(200, 26),\n",
    "        nn.LogSoftmax(dim=1))\n",
    "\n",
    "    def forward(self, x):\n",
    "        x = self.cnn_layers(x)\n",
    "        return x\n",
    "\n",
    "net = Net()"
   ]
  },
  {
   "cell_type": "code",
   "execution_count": 17,
   "metadata": {},
   "outputs": [],
   "source": [
    "criterion = nn.CrossEntropyLoss()\n",
    "optimizer = torch.optim.Adam(net.parameters(), lr=0.0005, betas=(0.9, 0.99))"
   ]
  },
  {
   "cell_type": "code",
   "execution_count": 19,
   "metadata": {},
   "outputs": [
    {
     "name": "stdout",
     "output_type": "stream",
     "text": [
      "Finished Training\n",
      "Accuracy: 83 %\n"
     ]
    }
   ],
   "source": [
    "trainloader, testloader, classes, dataset_sizes=get_dataset('images',data_transforms, 1000)\n",
    "acc = []\n",
    "for epoch in range(2):\n",
    "   \n",
    "    running_loss = 0.0\n",
    "    for i, data in enumerate(trainloader, 0):\n",
    "        inputs, labels = data\n",
    "       \n",
    "        optimizer.zero_grad()\n",
    "   \n",
    "        outputs = net(inputs)\n",
    "        loss = criterion(outputs, labels)\n",
    "        loss.backward()\n",
    "        optimizer.step()\n",
    "    \n",
    "        running_loss += loss.item()\n",
    "        if i % 2000 == 1999:\n",
    "            print('[%d, %5d] loss: %.3f' %\n",
    "                 (epoch + 1, i + 1, running_loss / 2000))\n",
    "            running_loss = 0.0\n",
    "          \n",
    "print('Finished Training')\n",
    "   \n",
    "dataiter = iter(testloader)\n",
    "images, labels = dataiter.next()\n",
    "  \n",
    "correct = 0\n",
    "total = 0\n",
    "with torch.no_grad():\n",
    "    for data in testloader:\n",
    "        images, labels = data\n",
    "        outputs = net(images)\n",
    "        _, predicted = torch.max(outputs.data, 1)\n",
    "        total += labels.size(0)\n",
    "        correct += (predicted == labels).sum().item()\n",
    "acc.append(round(100 * correct) / total)\n",
    "print('Accuracy: %d %%' % (100 * correct / total))"
   ]
  },
  {
   "cell_type": "markdown",
   "metadata": {},
   "source": [
    "#### >= 95"
   ]
  },
  {
   "cell_type": "code",
   "execution_count": 14,
   "metadata": {},
   "outputs": [],
   "source": [
    "criterion = nn.CrossEntropyLoss()  \n",
    "optimizer = torch.optim.Adam(ConvNet2_BatchN.parameters(), lr=0.0005, betas=(0.9, 0.99))"
   ]
  },
  {
   "cell_type": "code",
   "execution_count": 15,
   "metadata": {},
   "outputs": [],
   "source": [
    "trainloader, testloader, classes, dataset_sizes=get_dataset('images',data_transforms, 320)\n",
    "total_step = len(trainloader)\n",
    "loss_list = []\n",
    "acc_list = []\n",
    "num_epochs = 4\n",
    "for epoch in range(num_epochs):\n",
    "    for i, (images, labels) in enumerate(trainloader):\n",
    "        outputs = ConvNet2_BatchN(images)\n",
    "        loss = criterion(outputs, labels)\n",
    "        loss_list.append(loss.item())\n",
    "\n",
    "        optimizer.zero_grad()\n",
    "        loss.backward()\n",
    "        optimizer.step()\n",
    "\n",
    "        # Точность\n",
    "        total = labels.size(0)\n",
    "        _, predicted = torch.max(outputs.data, 1)\n",
    "        correct = (predicted == labels).sum().item()\n",
    "        acc_list.append(correct / total)\n",
    "\n",
    "        if (i + 1) % 100 == 0:\n",
    "            print('Epoch [{}/{}], Step [{}/{}], Loss: {:.4f}, Accuracy: {:.2f}%'\n",
    "                  .format(epoch + 1, num_epochs, i + 1, total_step, loss.item(),\n",
    "                          (correct / total) * 100))\n",
    "            \n",
    "print('Finished Training')\n",
    "   \n",
    "dataiter = iter(testloader)\n",
    "images, labels = dataiter.next()\n",
    "  \n",
    "correct = 0\n",
    "total = 0\n",
    "with torch.no_grad():\n",
    "    for data in testloader:\n",
    "        images, labels = data\n",
    "        outputs = net(images)\n",
    "        _, predicted = torch.max(outputs.data, 1)\n",
    "        total += labels.size(0)\n",
    "        correct += (predicted == labels).sum().item()\n",
    "acc.append(round(100 * correct) / total)\n",
    "print('Accuracy: %d %%' % (100 * correct / total))"
   ]
  },
  {
   "cell_type": "code",
   "execution_count": 20,
   "metadata": {},
   "outputs": [
    {
     "name": "stdout",
     "output_type": "stream",
     "text": [
      "Epoch [1/3], Step [100/210], Loss: 0.3764, Accuracy: 85.48%\n",
      "Epoch [1/3], Step [200/210], Loss: 0.4113, Accuracy: 88.06%\n",
      "Epoch [2/3], Step [100/210], Loss: 0.3220, Accuracy: 90.97%\n",
      "Epoch [2/3], Step [200/210], Loss: 0.3309, Accuracy: 89.68%\n",
      "Epoch [3/3], Step [100/210], Loss: 0.3422, Accuracy: 87.74%\n",
      "Epoch [3/3], Step [200/210], Loss: 0.4174, Accuracy: 88.39%\n",
      "Finished Training\n",
      "Accuracy: 93 %\n"
     ]
    }
   ],
   "source": [
    "trainloader, testloader, classes, dataset_sizes=get_dataset('images',data_transforms, 310)\n",
    "total_step = len(trainloader)\n",
    "loss_list = []\n",
    "acc_list = []\n",
    "num_epochs = 3\n",
    "for epoch in range(num_epochs):\n",
    "    for i, (images, labels) in enumerate(trainloader):\n",
    "        outputs = ConvNet2_BatchN(images)\n",
    "        loss = criterion(outputs, labels)\n",
    "        loss_list.append(loss.item())\n",
    "\n",
    "        optimizer.zero_grad()\n",
    "        loss.backward()\n",
    "        optimizer.step()\n",
    "\n",
    "        # Точность\n",
    "        total = labels.size(0)\n",
    "        _, predicted = torch.max(outputs.data, 1)\n",
    "        correct = (predicted == labels).sum().item()\n",
    "        acc_list.append(correct / total)\n",
    "\n",
    "        if (i + 1) % 100 == 0:\n",
    "            print('Epoch [{}/{}], Step [{}/{}], Loss: {:.4f}, Accuracy: {:.2f}%'\n",
    "                  .format(epoch + 1, num_epochs, i + 1, total_step, loss.item(),\n",
    "                          (correct / total) * 100))\n",
    "            \n",
    "print('Finished Training')\n",
    "   \n",
    "dataiter = iter(testloader)\n",
    "images, labels = dataiter.next()\n",
    "  \n",
    "correct = 0\n",
    "total = 0\n",
    "with torch.no_grad():\n",
    "    for data in testloader:\n",
    "        images, labels = data\n",
    "        outputs = ConvNet2_BatchN(images)\n",
    "        _, predicted = torch.max(outputs.data, 1)\n",
    "        total += labels.size(0)\n",
    "        correct += (predicted == labels).sum().item()\n",
    "acc.append(round(100 * correct) / total)\n",
    "print('Accuracy: %d %%' % (100 * correct / total))"
   ]
  },
  {
   "cell_type": "code",
   "execution_count": 22,
   "metadata": {},
   "outputs": [
    {
     "name": "stdout",
     "output_type": "stream",
     "text": [
      "Epoch [1/5], Step [100/210], Loss: 0.3934, Accuracy: 87.10%\n",
      "Epoch [1/5], Step [200/210], Loss: 0.4462, Accuracy: 83.87%\n",
      "Epoch [2/5], Step [100/210], Loss: 0.3299, Accuracy: 89.03%\n",
      "Epoch [2/5], Step [200/210], Loss: 0.3874, Accuracy: 86.77%\n",
      "Epoch [3/5], Step [100/210], Loss: 0.3743, Accuracy: 89.03%\n",
      "Epoch [3/5], Step [200/210], Loss: 0.3690, Accuracy: 87.74%\n",
      "Epoch [4/5], Step [100/210], Loss: 0.4752, Accuracy: 85.16%\n",
      "Epoch [4/5], Step [200/210], Loss: 0.4208, Accuracy: 87.42%\n",
      "Epoch [5/5], Step [100/210], Loss: 0.2646, Accuracy: 90.97%\n",
      "Epoch [5/5], Step [200/210], Loss: 0.3338, Accuracy: 88.71%\n",
      "Accuracy: 93 %\n"
     ]
    }
   ],
   "source": [
    "trainloader, testloader, classes, dataset_sizes=get_dataset('images',data_transforms, 310)\n",
    "total_step = len(trainloader)\n",
    "loss_list = []\n",
    "acc_list = []\n",
    "num_epochs = 5\n",
    "for epoch in range(num_epochs):\n",
    "    for i, (images, labels) in enumerate(trainloader):\n",
    "        outputs = ConvNet2_BatchN(images)\n",
    "        loss = criterion(outputs, labels)\n",
    "        loss_list.append(loss.item())\n",
    "\n",
    "        optimizer.zero_grad()\n",
    "        loss.backward()\n",
    "        optimizer.step()\n",
    "\n",
    "        # Точность\n",
    "        total = labels.size(0)\n",
    "        _, predicted = torch.max(outputs.data, 1)\n",
    "        correct = (predicted == labels).sum().item()\n",
    "        acc_list.append(correct / total)\n",
    "\n",
    "        if (i + 1) % 100 == 0:\n",
    "            print('Epoch [{}/{}], Step [{}/{}], Loss: {:.4f}, Accuracy: {:.2f}%'\n",
    "                  .format(epoch + 1, num_epochs, i + 1, total_step, loss.item(),\n",
    "                          (correct / total) * 100))\n",
    "            \n",
    "dataiter = iter(testloader)\n",
    "images, labels = dataiter.next()\n",
    "  \n",
    "correct = 0\n",
    "total = 0\n",
    "with torch.no_grad():\n",
    "    for data in testloader:\n",
    "        images, labels = data\n",
    "        outputs = ConvNet2_BatchN(images)\n",
    "        _, predicted = torch.max(outputs.data, 1)\n",
    "        total += labels.size(0)\n",
    "        correct += (predicted == labels).sum().item()\n",
    "acc.append(round(100 * correct) / total)\n",
    "print('Accuracy: %d %%' % (100 * correct / total))"
   ]
  },
  {
   "cell_type": "markdown",
   "metadata": {},
   "source": [
    "## Бонусные задания"
   ]
  },
  {
   "cell_type": "markdown",
   "metadata": {},
   "source": [
    "**Задание 1 (1 балл).**  \n",
    "\n",
    "Напишите на листке белой бумаги (маркером или ручкой) от 5 разных букв (можно больше 5 букв в целом с повторениями, но должно быть минимум 5 разных) английского алфавита (в датасете есть как прописные, так и строчные буквы). Сфотографируйте букву и приведите её картинку к размеру $28\\times28$ и, желательно, к чёрно-белой палитре цветов. Передайте получившиеся изображения вашей модели и выполните предсказание, оцените результат.  \n",
    "  \n",
    "**Tips:**  \n",
    "- В датасете все буквы занимают практически всё пространство картинки по высоте или ширине (или вместе). Если ваша буква будет слишком маленькой или большой, это может повлиять на результат детекции.\n",
    "- Помните, что буква должна быть белого цвета, а фон - чёрного.\n",
    "- Описание ваших действий при выполнении этого задания (что вы использовали, чтобы привести картинку к нужному виду) категорически приветствуется :)"
   ]
  },
  {
   "cell_type": "markdown",
   "metadata": {},
   "source": [
    "**Задание 2 (1 балл):**    \n",
    "  \n",
    "Используйте transfer learning подход для решения задачи - дообучите какую-либо модель, предобученную на ImageNet, для классификации рукописных букв. Оцените качество решения.  \n",
    "В качестве предобученой модели можно взять одну из [torchvision models](https://pytorch.org/docs/stable/torchvision/models.html)."
   ]
  },
  {
   "cell_type": "markdown",
   "metadata": {},
   "source": [
    "**Задание 3 (1 балл):**  \n",
    "  \n",
    "Добавьте вывод значений функции потерь и accuracy в tensorboard.  \n",
    "Метрики нужно выводить и для обучающей, и для тестовой выборки."
   ]
  }
 ],
 "metadata": {
  "kernelspec": {
   "display_name": "Python 3",
   "language": "python",
   "name": "python3"
  },
  "language_info": {
   "codemirror_mode": {
    "name": "ipython",
    "version": 3
   },
   "file_extension": ".py",
   "mimetype": "text/x-python",
   "name": "python",
   "nbconvert_exporter": "python",
   "pygments_lexer": "ipython3",
   "version": "3.6.5"
  }
 },
 "nbformat": 4,
 "nbformat_minor": 2
}
